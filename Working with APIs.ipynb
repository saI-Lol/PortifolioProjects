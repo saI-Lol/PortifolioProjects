{
 "cells": [
  {
   "cell_type": "markdown",
   "id": "cbd9ce2e-bffc-40b7-9be8-aa35584ff8f8",
   "metadata": {},
   "source": [
    "# Working with APIs"
   ]
  },
  {
   "cell_type": "markdown",
   "id": "5d26b0c5-dd37-4d2b-987d-a023f665c1d1",
   "metadata": {},
   "source": [
    "---"
   ]
  },
  {
   "cell_type": "markdown",
   "id": "7a4cfe86-3a3f-483b-9515-69eef89f1ca0",
   "metadata": {},
   "source": [
    "### For the program to work, create an account with Alpha Vantage, then generate an API KEY. Use this in place of DEMO_API_KEY"
   ]
  },
  {
   "cell_type": "code",
   "execution_count": 1,
   "id": "6d5d7d11-2b04-4808-9663-f5c3a9e9b355",
   "metadata": {},
   "outputs": [],
   "source": [
    "#import libraries\n",
    "import requests\n",
    "import json\n",
    "import csv\n",
    "import os"
   ]
  },
  {
   "cell_type": "code",
   "execution_count": 2,
   "id": "b6aa941c-a10a-48eb-a431-488fd931926f",
   "metadata": {},
   "outputs": [],
   "source": [
    "def createDataset(stocks, file_name):\n",
    "    \"\"\"create dataset from stock data of passed stocks and save it under file name passed as csv\"\"\"\n",
    "    #Checking if there is a file in same location with similar file name\n",
    "    #Exception raised in case file name supplied is similar to existing file in same location\n",
    "    #otherwise, all procedure are carried out\n",
    "    directory='D://chris/python_work/web scrapping/' #folder where file is saved\n",
    "    path=directory+file_name #path to the file\n",
    "    \n",
    "    #checking to see if there is a file in same location with the same name\n",
    "    if os.path.isfile(path):\n",
    "        raise Exception('File already exists in this location')\n",
    "    else:\n",
    "        try:\n",
    "            #create file\n",
    "            csv_file=open(file_name, mode='w', encoding='utf-8', newline='')\n",
    "            csv_writer=csv.writer(csv_file)\n",
    "            #file headers\n",
    "            headers=['stock', 'timestamp', 'open', 'high', 'low', 'close', 'volume']\n",
    "            #write headers to the file\n",
    "            csv_writer.writerow(headers)\n",
    "            #iterate over different tickers that were passed\n",
    "            for stock in stocks:\n",
    "                #create url\n",
    "                part1='https://www.alphavantage.co/query?function=TIME_SERIES_INTRADAY&symbol='\n",
    "                part3='&interval=30min&apikey=DEMO_API_KEY'\n",
    "                url=part1+stock+part3 #url to fetch stocks for particular company\n",
    "                #obtain response object\n",
    "                response=requests.get(url) \n",
    "                #pass text attribute of response object to obtain dictionary\n",
    "                data=json.loads(response.text)\n",
    "                #get timestamp and corresponding data\n",
    "                #write data to file opened\n",
    "                for item in data['Time Series (30min)'].items():\n",
    "                    timestamp=item[0]\n",
    "                    open_=item[1]['1. open']\n",
    "                    high=item[1]['2. high']\n",
    "                    low=item[1]['3. low']\n",
    "                    close=item[1]['4. close']\n",
    "                    volume=item[1]['5. volume']\n",
    "                    #write row of data to csv file\n",
    "                    csv_writer.writerow([stock, timestamp, open_, high, low, close, volume])\n",
    "        except Exception as e:\n",
    "            #close file handle\n",
    "            #remove created file \n",
    "            csv_file.close()\n",
    "            os.remove(path)\n",
    "            print(e)\n",
    "        else:\n",
    "            #close csv file\n",
    "            csv_file.close()\n",
    "                \n",
    "                \n",
    "        "
   ]
  },
  {
   "cell_type": "code",
   "execution_count": 4,
   "id": "fd7626e1-11d1-4ecf-bec9-2d6da29a4c4a",
   "metadata": {},
   "outputs": [],
   "source": [
    "#list of tickers\n",
    "stocks=['META', 'AMZN', 'NFLX','GOOGL']\n",
    "#file name with csv extension\n",
    "file_name='fang_stocks.csv'\n",
    "#calling function to create data set\n",
    "createDataset(stocks, file_name)"
   ]
  }
 ],
 "metadata": {
  "kernelspec": {
   "display_name": "Python 3 (ipykernel)",
   "language": "python",
   "name": "python3"
  },
  "language_info": {
   "codemirror_mode": {
    "name": "ipython",
    "version": 3
   },
   "file_extension": ".py",
   "mimetype": "text/x-python",
   "name": "python",
   "nbconvert_exporter": "python",
   "pygments_lexer": "ipython3",
   "version": "3.9.13"
  }
 },
 "nbformat": 4,
 "nbformat_minor": 5
}
