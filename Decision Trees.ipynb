{
 "cells": [
  {
   "cell_type": "markdown",
   "id": "eba93c5d-9102-4b62-a259-ebe25f28b75b",
   "metadata": {},
   "source": [
    "# Exploring Decision trees"
   ]
  },
  {
   "cell_type": "markdown",
   "id": "5ade8e96-8f0a-42cf-ad9d-f1e25c8d3efc",
   "metadata": {},
   "source": [
    "---"
   ]
  },
  {
   "cell_type": "markdown",
   "id": "17d281ad-b768-48c4-8e93-ccd80ba2a14a",
   "metadata": {},
   "source": [
    "## 1. Import libraries"
   ]
  },
  {
   "cell_type": "code",
   "execution_count": 1,
   "id": "87305a95-3711-41cb-bd4f-8b336f81a207",
   "metadata": {},
   "outputs": [],
   "source": [
    "import pandas as pd\n",
    "import numpy as np\n",
    "import matplotlib.pyplot as plt\n",
    "import seaborn as sns\n",
    "%matplotlib inline"
   ]
  },
  {
   "cell_type": "markdown",
   "id": "40334f9e-2620-4239-ab2f-c00203056685",
   "metadata": {},
   "source": [
    "## 2. Prepare data"
   ]
  },
  {
   "cell_type": "code",
   "execution_count": 2,
   "id": "1c29afb0-3f31-44c4-b184-fe7ebea49bc4",
   "metadata": {},
   "outputs": [
    {
     "data": {
      "text/html": [
       "<div>\n",
       "<style scoped>\n",
       "    .dataframe tbody tr th:only-of-type {\n",
       "        vertical-align: middle;\n",
       "    }\n",
       "\n",
       "    .dataframe tbody tr th {\n",
       "        vertical-align: top;\n",
       "    }\n",
       "\n",
       "    .dataframe thead th {\n",
       "        text-align: right;\n",
       "    }\n",
       "</style>\n",
       "<table border=\"1\" class=\"dataframe\">\n",
       "  <thead>\n",
       "    <tr style=\"text-align: right;\">\n",
       "      <th></th>\n",
       "      <th>PassengerId</th>\n",
       "      <th>Survived</th>\n",
       "      <th>Pclass</th>\n",
       "      <th>Name</th>\n",
       "      <th>Sex</th>\n",
       "      <th>Age</th>\n",
       "      <th>SibSp</th>\n",
       "      <th>Parch</th>\n",
       "      <th>Ticket</th>\n",
       "      <th>Fare</th>\n",
       "      <th>Cabin</th>\n",
       "      <th>Embarked</th>\n",
       "    </tr>\n",
       "  </thead>\n",
       "  <tbody>\n",
       "    <tr>\n",
       "      <th>0</th>\n",
       "      <td>1</td>\n",
       "      <td>0</td>\n",
       "      <td>3</td>\n",
       "      <td>Braund, Mr. Owen Harris</td>\n",
       "      <td>male</td>\n",
       "      <td>22.0</td>\n",
       "      <td>1</td>\n",
       "      <td>0</td>\n",
       "      <td>A/5 21171</td>\n",
       "      <td>7.2500</td>\n",
       "      <td>NaN</td>\n",
       "      <td>S</td>\n",
       "    </tr>\n",
       "    <tr>\n",
       "      <th>1</th>\n",
       "      <td>2</td>\n",
       "      <td>1</td>\n",
       "      <td>1</td>\n",
       "      <td>Cumings, Mrs. John Bradley (Florence Briggs Th...</td>\n",
       "      <td>female</td>\n",
       "      <td>38.0</td>\n",
       "      <td>1</td>\n",
       "      <td>0</td>\n",
       "      <td>PC 17599</td>\n",
       "      <td>71.2833</td>\n",
       "      <td>C85</td>\n",
       "      <td>C</td>\n",
       "    </tr>\n",
       "    <tr>\n",
       "      <th>2</th>\n",
       "      <td>3</td>\n",
       "      <td>1</td>\n",
       "      <td>3</td>\n",
       "      <td>Heikkinen, Miss. Laina</td>\n",
       "      <td>female</td>\n",
       "      <td>26.0</td>\n",
       "      <td>0</td>\n",
       "      <td>0</td>\n",
       "      <td>STON/O2. 3101282</td>\n",
       "      <td>7.9250</td>\n",
       "      <td>NaN</td>\n",
       "      <td>S</td>\n",
       "    </tr>\n",
       "    <tr>\n",
       "      <th>3</th>\n",
       "      <td>4</td>\n",
       "      <td>1</td>\n",
       "      <td>1</td>\n",
       "      <td>Futrelle, Mrs. Jacques Heath (Lily May Peel)</td>\n",
       "      <td>female</td>\n",
       "      <td>35.0</td>\n",
       "      <td>1</td>\n",
       "      <td>0</td>\n",
       "      <td>113803</td>\n",
       "      <td>53.1000</td>\n",
       "      <td>C123</td>\n",
       "      <td>S</td>\n",
       "    </tr>\n",
       "    <tr>\n",
       "      <th>4</th>\n",
       "      <td>5</td>\n",
       "      <td>0</td>\n",
       "      <td>3</td>\n",
       "      <td>Allen, Mr. William Henry</td>\n",
       "      <td>male</td>\n",
       "      <td>35.0</td>\n",
       "      <td>0</td>\n",
       "      <td>0</td>\n",
       "      <td>373450</td>\n",
       "      <td>8.0500</td>\n",
       "      <td>NaN</td>\n",
       "      <td>S</td>\n",
       "    </tr>\n",
       "  </tbody>\n",
       "</table>\n",
       "</div>"
      ],
      "text/plain": [
       "   PassengerId  Survived  Pclass  \\\n",
       "0            1         0       3   \n",
       "1            2         1       1   \n",
       "2            3         1       3   \n",
       "3            4         1       1   \n",
       "4            5         0       3   \n",
       "\n",
       "                                                Name     Sex   Age  SibSp  \\\n",
       "0                            Braund, Mr. Owen Harris    male  22.0      1   \n",
       "1  Cumings, Mrs. John Bradley (Florence Briggs Th...  female  38.0      1   \n",
       "2                             Heikkinen, Miss. Laina  female  26.0      0   \n",
       "3       Futrelle, Mrs. Jacques Heath (Lily May Peel)  female  35.0      1   \n",
       "4                           Allen, Mr. William Henry    male  35.0      0   \n",
       "\n",
       "   Parch            Ticket     Fare Cabin Embarked  \n",
       "0      0         A/5 21171   7.2500   NaN        S  \n",
       "1      0          PC 17599  71.2833   C85        C  \n",
       "2      0  STON/O2. 3101282   7.9250   NaN        S  \n",
       "3      0            113803  53.1000  C123        S  \n",
       "4      0            373450   8.0500   NaN        S  "
      ]
     },
     "execution_count": 2,
     "metadata": {},
     "output_type": "execute_result"
    }
   ],
   "source": [
    "#path to dataset\n",
    "path='D://Downloads/Supervised Machine Learning/car_prices/titanic/train.csv'\n",
    "#create dataframe\n",
    "df=pd.read_csv(path)\n",
    "#head of dataframe\n",
    "df.head()"
   ]
  },
  {
   "cell_type": "code",
   "execution_count": 3,
   "id": "6e33bcfd-07e4-4d27-b4a6-03ce2094c4c5",
   "metadata": {},
   "outputs": [
    {
     "name": "stdout",
     "output_type": "stream",
     "text": [
      "<class 'pandas.core.frame.DataFrame'>\n",
      "RangeIndex: 891 entries, 0 to 890\n",
      "Data columns (total 12 columns):\n",
      " #   Column       Non-Null Count  Dtype  \n",
      "---  ------       --------------  -----  \n",
      " 0   PassengerId  891 non-null    int64  \n",
      " 1   Survived     891 non-null    int64  \n",
      " 2   Pclass       891 non-null    int64  \n",
      " 3   Name         891 non-null    object \n",
      " 4   Sex          891 non-null    object \n",
      " 5   Age          714 non-null    float64\n",
      " 6   SibSp        891 non-null    int64  \n",
      " 7   Parch        891 non-null    int64  \n",
      " 8   Ticket       891 non-null    object \n",
      " 9   Fare         891 non-null    float64\n",
      " 10  Cabin        204 non-null    object \n",
      " 11  Embarked     889 non-null    object \n",
      "dtypes: float64(2), int64(5), object(5)\n",
      "memory usage: 83.7+ KB\n"
     ]
    }
   ],
   "source": [
    "#brief description of dataframe\n",
    "df.info()"
   ]
  },
  {
   "cell_type": "code",
   "execution_count": 4,
   "id": "6e58c626-4f43-43e4-9c9c-64f8473cf0c1",
   "metadata": {},
   "outputs": [
    {
     "name": "stdout",
     "output_type": "stream",
     "text": [
      "num_cols\n",
      "--------------------------------------------------\n",
      "             count        mean         std   min       25%       50%    75%  \\\n",
      "PassengerId  891.0  446.000000  257.353842  1.00  223.5000  446.0000  668.5   \n",
      "Survived     891.0    0.383838    0.486592  0.00    0.0000    0.0000    1.0   \n",
      "Pclass       891.0    2.308642    0.836071  1.00    2.0000    3.0000    3.0   \n",
      "Age          714.0   29.699118   14.526497  0.42   20.1250   28.0000   38.0   \n",
      "SibSp        891.0    0.523008    1.102743  0.00    0.0000    0.0000    1.0   \n",
      "Parch        891.0    0.381594    0.806057  0.00    0.0000    0.0000    0.0   \n",
      "Fare         891.0   32.204208   49.693429  0.00    7.9104   14.4542   31.0   \n",
      "\n",
      "                  max  \n",
      "PassengerId  891.0000  \n",
      "Survived       1.0000  \n",
      "Pclass         3.0000  \n",
      "Age           80.0000  \n",
      "SibSp          8.0000  \n",
      "Parch          6.0000  \n",
      "Fare         512.3292  \n",
      "\n",
      "\n",
      "text_cols\n",
      "--------------------------------------------------\n",
      "         count unique                      top freq\n",
      "Name       891    891  Braund, Mr. Owen Harris    1\n",
      "Sex        891      2                     male  577\n",
      "Ticket     891    681                   347082    7\n",
      "Cabin      204    147                  B96 B98    4\n",
      "Embarked   889      3                        S  644\n"
     ]
    }
   ],
   "source": [
    "#summary information for columns\n",
    "print(f\"num_cols\\n{'-'*50}\\n{df.describe().transpose()}\\n\\n\")\n",
    "print(f\"text_cols\\n{'-'*50}\\n{df.describe(include='object').transpose()}\")"
   ]
  },
  {
   "cell_type": "code",
   "execution_count": 5,
   "id": "0a56d2fa-ae4d-4698-bd81-9f381edd001b",
   "metadata": {},
   "outputs": [],
   "source": [
    "#create clean dataframe\n",
    "df_clean=df.copy()\n",
    "#fill missing values in Age and Embarked columns\n",
    "mean=df_clean['Age'].mean()\n",
    "mode=df_clean['Embarked'].mode()[0]\n",
    "df_clean.replace({'Age':{np.nan: mean}, 'Embarked':{np.nan: mode}}, inplace=True)\n",
    "#drop Cabin column\n",
    "df_clean=df_clean.drop('Cabin', axis=1)"
   ]
  },
  {
   "cell_type": "code",
   "execution_count": 6,
   "id": "31c16190-3645-4627-b0e3-70c9d9ebd29b",
   "metadata": {},
   "outputs": [
    {
     "data": {
      "text/html": [
       "<div>\n",
       "<style scoped>\n",
       "    .dataframe tbody tr th:only-of-type {\n",
       "        vertical-align: middle;\n",
       "    }\n",
       "\n",
       "    .dataframe tbody tr th {\n",
       "        vertical-align: top;\n",
       "    }\n",
       "\n",
       "    .dataframe thead th {\n",
       "        text-align: right;\n",
       "    }\n",
       "</style>\n",
       "<table border=\"1\" class=\"dataframe\">\n",
       "  <thead>\n",
       "    <tr style=\"text-align: right;\">\n",
       "      <th></th>\n",
       "      <th>PassengerId</th>\n",
       "      <th>Survived</th>\n",
       "      <th>Pclass</th>\n",
       "      <th>Name</th>\n",
       "      <th>Sex</th>\n",
       "      <th>Age</th>\n",
       "      <th>SibSp</th>\n",
       "      <th>Parch</th>\n",
       "      <th>Ticket</th>\n",
       "      <th>Fare</th>\n",
       "      <th>Embarked</th>\n",
       "    </tr>\n",
       "  </thead>\n",
       "  <tbody>\n",
       "    <tr>\n",
       "      <th>0</th>\n",
       "      <td>1</td>\n",
       "      <td>0</td>\n",
       "      <td>3</td>\n",
       "      <td>Braund, Mr. Owen Harris</td>\n",
       "      <td>male</td>\n",
       "      <td>22.0</td>\n",
       "      <td>1</td>\n",
       "      <td>0</td>\n",
       "      <td>A/5 21171</td>\n",
       "      <td>7.2500</td>\n",
       "      <td>S</td>\n",
       "    </tr>\n",
       "    <tr>\n",
       "      <th>1</th>\n",
       "      <td>2</td>\n",
       "      <td>1</td>\n",
       "      <td>1</td>\n",
       "      <td>Cumings, Mrs. John Bradley (Florence Briggs Th...</td>\n",
       "      <td>female</td>\n",
       "      <td>38.0</td>\n",
       "      <td>1</td>\n",
       "      <td>0</td>\n",
       "      <td>PC 17599</td>\n",
       "      <td>71.2833</td>\n",
       "      <td>C</td>\n",
       "    </tr>\n",
       "    <tr>\n",
       "      <th>2</th>\n",
       "      <td>3</td>\n",
       "      <td>1</td>\n",
       "      <td>3</td>\n",
       "      <td>Heikkinen, Miss. Laina</td>\n",
       "      <td>female</td>\n",
       "      <td>26.0</td>\n",
       "      <td>0</td>\n",
       "      <td>0</td>\n",
       "      <td>STON/O2. 3101282</td>\n",
       "      <td>7.9250</td>\n",
       "      <td>S</td>\n",
       "    </tr>\n",
       "    <tr>\n",
       "      <th>3</th>\n",
       "      <td>4</td>\n",
       "      <td>1</td>\n",
       "      <td>1</td>\n",
       "      <td>Futrelle, Mrs. Jacques Heath (Lily May Peel)</td>\n",
       "      <td>female</td>\n",
       "      <td>35.0</td>\n",
       "      <td>1</td>\n",
       "      <td>0</td>\n",
       "      <td>113803</td>\n",
       "      <td>53.1000</td>\n",
       "      <td>S</td>\n",
       "    </tr>\n",
       "    <tr>\n",
       "      <th>4</th>\n",
       "      <td>5</td>\n",
       "      <td>0</td>\n",
       "      <td>3</td>\n",
       "      <td>Allen, Mr. William Henry</td>\n",
       "      <td>male</td>\n",
       "      <td>35.0</td>\n",
       "      <td>0</td>\n",
       "      <td>0</td>\n",
       "      <td>373450</td>\n",
       "      <td>8.0500</td>\n",
       "      <td>S</td>\n",
       "    </tr>\n",
       "  </tbody>\n",
       "</table>\n",
       "</div>"
      ],
      "text/plain": [
       "   PassengerId  Survived  Pclass  \\\n",
       "0            1         0       3   \n",
       "1            2         1       1   \n",
       "2            3         1       3   \n",
       "3            4         1       1   \n",
       "4            5         0       3   \n",
       "\n",
       "                                                Name     Sex   Age  SibSp  \\\n",
       "0                            Braund, Mr. Owen Harris    male  22.0      1   \n",
       "1  Cumings, Mrs. John Bradley (Florence Briggs Th...  female  38.0      1   \n",
       "2                             Heikkinen, Miss. Laina  female  26.0      0   \n",
       "3       Futrelle, Mrs. Jacques Heath (Lily May Peel)  female  35.0      1   \n",
       "4                           Allen, Mr. William Henry    male  35.0      0   \n",
       "\n",
       "   Parch            Ticket     Fare Embarked  \n",
       "0      0         A/5 21171   7.2500        S  \n",
       "1      0          PC 17599  71.2833        C  \n",
       "2      0  STON/O2. 3101282   7.9250        S  \n",
       "3      0            113803  53.1000        S  \n",
       "4      0            373450   8.0500        S  "
      ]
     },
     "execution_count": 6,
     "metadata": {},
     "output_type": "execute_result"
    }
   ],
   "source": [
    "#head of df_clean\n",
    "df_clean.head()"
   ]
  },
  {
   "cell_type": "code",
   "execution_count": 7,
   "id": "df3dd0f7-69dc-4e9d-8c11-8edc82341ae4",
   "metadata": {},
   "outputs": [
    {
     "data": {
      "text/plain": [
       "PassengerId    False\n",
       "Survived       False\n",
       "Pclass         False\n",
       "Name           False\n",
       "Sex            False\n",
       "Age            False\n",
       "SibSp          False\n",
       "Parch          False\n",
       "Ticket         False\n",
       "Fare           False\n",
       "Embarked       False\n",
       "dtype: bool"
      ]
     },
     "execution_count": 7,
     "metadata": {},
     "output_type": "execute_result"
    }
   ],
   "source": [
    "df_clean.isnull().any()"
   ]
  },
  {
   "cell_type": "markdown",
   "id": "1bae9870-e7b1-41f5-8624-bc11ba6efedb",
   "metadata": {},
   "source": [
    "## 3. Create column transformer"
   ]
  },
  {
   "cell_type": "code",
   "execution_count": 8,
   "id": "97e342b5-622a-4196-8325-a8414bb6d8b1",
   "metadata": {},
   "outputs": [],
   "source": [
    "#import scikit-learn classes\n",
    "from sklearn.compose import ColumnTransformer\n",
    "from sklearn.preprocessing import OrdinalEncoder, OneHotEncoder\n",
    "from sklearn.pipeline import make_pipeline\n",
    "#lists of ordinal and nominal columns\n",
    "cat_ordered=['Pclass']\n",
    "cat_unordered=['Sex', 'Embarked']\n",
    "#pipeline for ordinal columns\n",
    "ordered_pipeline=make_pipeline(OrdinalEncoder())\n",
    "#pipeline for nominal columns\n",
    "unordered_pipeline=make_pipeline(OneHotEncoder())\n",
    "\n",
    "preprocessor=ColumnTransformer([\n",
    "    ('ordered_pipeline', ordered_pipeline, cat_ordered),\n",
    "    ('unordered_pipeline', unordered_pipeline, cat_unordered),\n",
    "], remainder='passthrough')\n"
   ]
  },
  {
   "cell_type": "code",
   "execution_count": 9,
   "id": "e5756788-13e4-4adc-821a-b8ec9eb8cf1d",
   "metadata": {},
   "outputs": [],
   "source": [
    "#transform columns\n",
    "index=df_clean.columns.drop(['Survived','PassengerId', 'Ticket', 'Name'])\n",
    "X=df_clean[index]\n",
    "Y=df_clean['Survived']\n",
    "X_preprocess=preprocessor.fit_transform(X)"
   ]
  },
  {
   "cell_type": "markdown",
   "id": "7b5559ca-ff99-4832-a4d0-5b84edb41eb2",
   "metadata": {},
   "source": [
    "## 4. Create models"
   ]
  },
  {
   "cell_type": "code",
   "execution_count": 130,
   "id": "f4f5a5f0-814a-448f-8a0c-b65ddf942ba0",
   "metadata": {},
   "outputs": [],
   "source": [
    "#import required classes\n",
    "from sklearn.model_selection import train_test_split, GridSearchCV\n",
    "from sklearn import tree\n",
    "from sklearn.metrics import f1_score, precision_score, recall_score\n",
    "from sklearn.metrics import confusion_matrix\n",
    "from sklearn.ensemble import RandomForestClassifier, BaggingClassifier, VotingClassifier\n",
    "from sklearn.linear_model import LogisticRegression\n",
    "from sklearn.preprocessing import PolynomialFeatures"
   ]
  },
  {
   "cell_type": "code",
   "execution_count": 58,
   "id": "89b84083-c8b5-40b5-8ff9-1bfaa502f589",
   "metadata": {},
   "outputs": [],
   "source": [
    "#split data into training and validation sets\n",
    "X_train, X_val, y_train, y_val=train_test_split(X_preprocess, Y, test_size=0.3, random_state=0)"
   ]
  },
  {
   "cell_type": "markdown",
   "id": "931ac635-022e-47ff-9f72-ce8c47c46ed9",
   "metadata": {},
   "source": [
    "### Model 1"
   ]
  },
  {
   "cell_type": "code",
   "execution_count": 59,
   "id": "2e777f2c-9a47-401e-bffb-db23c8b2def9",
   "metadata": {},
   "outputs": [
    {
     "data": {
      "text/plain": [
       "DecisionTreeClassifier(criterion='entropy')"
      ]
     },
     "execution_count": 59,
     "metadata": {},
     "output_type": "execute_result"
    }
   ],
   "source": [
    "#train decision tree model\n",
    "clf=tree.DecisionTreeClassifier(criterion='entropy')\n",
    "clf.fit(X_train, y_train)"
   ]
  },
  {
   "cell_type": "code",
   "execution_count": 60,
   "id": "7d0be5d6-a163-4087-a1a6-cf4079cb7074",
   "metadata": {},
   "outputs": [
    {
     "name": "stdout",
     "output_type": "stream",
     "text": [
      "Precision: 0.691\tRecall: 0.650\tf1 Score: 0.670\n"
     ]
    }
   ],
   "source": [
    "#print f1 score, precision and recall\n",
    "y_pred=clf.predict(X_val)\n",
    "f1=f1_score(y_val, y_pred)\n",
    "precision=precision_score(y_val, y_pred)\n",
    "recall=recall_score(y_val, y_pred)\n",
    "print(f'Precision: {precision:.3f}\\tRecall: {recall:.3f}\\tf1 Score: {f1:.3f}')"
   ]
  },
  {
   "cell_type": "code",
   "execution_count": 61,
   "id": "22f847d3-4f2d-49ee-bc5f-b80bfce3178b",
   "metadata": {},
   "outputs": [
    {
     "data": {
      "text/plain": [
       "array([[139,  29],\n",
       "       [ 35,  65]], dtype=int64)"
      ]
     },
     "execution_count": 61,
     "metadata": {},
     "output_type": "execute_result"
    }
   ],
   "source": [
    "#see number of true and false positives and negatives\n",
    "confusion_matrix(y_val, y_pred)"
   ]
  },
  {
   "cell_type": "code",
   "execution_count": null,
   "id": "34be1b5b-0074-4350-ba2f-cdf07db6d308",
   "metadata": {},
   "outputs": [],
   "source": [
    "#Check if model is overfitting or underfitting\n"
   ]
  },
  {
   "cell_type": "code",
   "execution_count": null,
   "id": "3e7c74dd-f9a8-4104-8ca8-efa9b71c5a04",
   "metadata": {},
   "outputs": [],
   "source": []
  },
  {
   "cell_type": "code",
   "execution_count": null,
   "id": "d9959eee-32a1-4e57-943b-d914ebcbd139",
   "metadata": {},
   "outputs": [],
   "source": []
  },
  {
   "cell_type": "code",
   "execution_count": null,
   "id": "8bfdbf63-df26-47e1-901a-88875f2bad73",
   "metadata": {},
   "outputs": [],
   "source": []
  },
  {
   "cell_type": "code",
   "execution_count": null,
   "id": "bfef78bd-fb00-45c0-915d-8ecfce2d0972",
   "metadata": {},
   "outputs": [],
   "source": []
  },
  {
   "cell_type": "code",
   "execution_count": null,
   "id": "4571b02b-48d6-4a9b-bac9-99a5887a5a06",
   "metadata": {},
   "outputs": [],
   "source": []
  },
  {
   "cell_type": "markdown",
   "id": "d389f8f1-444c-4e21-bfc2-e4df75e01d32",
   "metadata": {},
   "source": [
    "### Model 2"
   ]
  },
  {
   "cell_type": "code",
   "execution_count": 68,
   "id": "5ff5d94a-11b4-41c8-a82f-8809d9dab33b",
   "metadata": {},
   "outputs": [
    {
     "data": {
      "text/plain": [
       "RandomForestClassifier(criterion='entropy')"
      ]
     },
     "execution_count": 68,
     "metadata": {},
     "output_type": "execute_result"
    }
   ],
   "source": [
    "#train model\n",
    "forest=RandomForestClassifier(criterion='entropy')\n",
    "forest.fit(X_train, y_train)"
   ]
  },
  {
   "cell_type": "code",
   "execution_count": 69,
   "id": "1cc5e5b7-c511-400c-803a-b245d848ff42",
   "metadata": {},
   "outputs": [
    {
     "name": "stdout",
     "output_type": "stream",
     "text": [
      "Precision: 0.791\tRecall: 0.720\tf1 Score: 0.754\n"
     ]
    }
   ],
   "source": [
    "#print f1 score, precision and recall\n",
    "y_pred=forest.predict(X_val)\n",
    "f1=f1_score(y_val, y_pred)\n",
    "precision=precision_score(y_val, y_pred)\n",
    "recall=recall_score(y_val, y_pred)\n",
    "print(f'Precision: {precision:.3f}\\tRecall: {recall:.3f}\\tf1 Score: {f1:.3f}')"
   ]
  },
  {
   "cell_type": "code",
   "execution_count": 70,
   "id": "d4ab559c-ee70-4262-aec9-c78cf4626dfc",
   "metadata": {},
   "outputs": [
    {
     "data": {
      "text/plain": [
       "array([[149,  19],\n",
       "       [ 28,  72]], dtype=int64)"
      ]
     },
     "execution_count": 70,
     "metadata": {},
     "output_type": "execute_result"
    }
   ],
   "source": [
    "#see number of true and false positives and negatives\n",
    "confusion_matrix(y_val, y_pred)"
   ]
  },
  {
   "cell_type": "code",
   "execution_count": null,
   "id": "70d788d6-9376-4687-9ec8-52f31820a2cc",
   "metadata": {},
   "outputs": [],
   "source": []
  },
  {
   "cell_type": "code",
   "execution_count": null,
   "id": "5b077aa1-b7ff-4d6a-a341-dded8eae7013",
   "metadata": {},
   "outputs": [],
   "source": []
  },
  {
   "cell_type": "code",
   "execution_count": null,
   "id": "97c218a5-c782-4c8c-99d2-5873b5dbc167",
   "metadata": {},
   "outputs": [],
   "source": []
  },
  {
   "cell_type": "code",
   "execution_count": null,
   "id": "f6971079-ca87-4ee4-bc28-be3bfaf56c9b",
   "metadata": {},
   "outputs": [],
   "source": []
  },
  {
   "cell_type": "code",
   "execution_count": null,
   "id": "1621f715-d412-40fd-bbf1-8ad5a1f69e87",
   "metadata": {},
   "outputs": [],
   "source": []
  },
  {
   "cell_type": "markdown",
   "id": "5c6004d5-1623-43c3-9564-9afb4ac703f5",
   "metadata": {},
   "source": [
    "### Model 3"
   ]
  },
  {
   "cell_type": "code",
   "execution_count": 134,
   "id": "f66bce02-5c79-4de5-975b-bdf1e88466eb",
   "metadata": {},
   "outputs": [
    {
     "data": {
      "text/plain": [
       "LogisticRegression(C=10, max_iter=10000, solver='saga')"
      ]
     },
     "execution_count": 134,
     "metadata": {},
     "output_type": "execute_result"
    }
   ],
   "source": [
    "#train model\n",
    "logit=LogisticRegression(C=10, max_iter=10000, solver='saga')\n",
    "logit.fit(X_train_, y_train)"
   ]
  },
  {
   "cell_type": "code",
   "execution_count": 136,
   "id": "4cb90044-8e35-4dc7-ba48-12cfea85dbec",
   "metadata": {},
   "outputs": [
    {
     "name": "stdout",
     "output_type": "stream",
     "text": [
      "Precision: 0.660\tRecall: 0.350\tf1 Score: 0.458\n"
     ]
    }
   ],
   "source": [
    "#print f1 score, precision and recall\n",
    "y_pred=logit.predict(X_val)\n",
    "f1=f1_score(y_val, y_pred)\n",
    "precision=precision_score(y_val, y_pred)\n",
    "recall=recall_score(y_val, y_pred)\n",
    "print(f'Precision: {precision:.3f}\\tRecall: {recall:.3f}\\tf1 Score: {f1:.3f}')"
   ]
  },
  {
   "cell_type": "code",
   "execution_count": 97,
   "id": "0d42cc1b-a156-40a0-a7c8-b3f987639db4",
   "metadata": {},
   "outputs": [
    {
     "data": {
      "text/plain": [
       "array([[143,  25],\n",
       "       [ 28,  72]], dtype=int64)"
      ]
     },
     "execution_count": 97,
     "metadata": {},
     "output_type": "execute_result"
    }
   ],
   "source": [
    "#see number of true and false positives and negatives\n",
    "confusion_matrix(y_val, y_pred)"
   ]
  },
  {
   "cell_type": "code",
   "execution_count": 101,
   "id": "642e7e6e-e941-4270-8ec0-f83c95ca8db5",
   "metadata": {},
   "outputs": [
    {
     "data": {
      "text/plain": [
       "GridSearchCV(estimator=LogisticRegression(C=0.1, max_iter=10000),\n",
       "             param_grid={'C': [0.01, 0.1, 1, 10, 100],\n",
       "                         'solver': ['lbfgs', 'liblinear', 'newton-cg', 'saga',\n",
       "                                    'sag']},\n",
       "             scoring='f1')"
      ]
     },
     "execution_count": 101,
     "metadata": {},
     "output_type": "execute_result"
    }
   ],
   "source": [
    "params={'C':[0.01, 0.1, 1, 10, 100],\n",
    "       'solver':['lbfgs', 'liblinear', 'newton-cg', 'saga', 'sag']}\n",
    "cv=GridSearchCV(estimator=LogisticRegression(max_iter=10000, C=0.1),\n",
    "                param_grid=params,\n",
    "                scoring='f1'\n",
    "               )\n",
    "cv.fit(X_train, y_train)"
   ]
  },
  {
   "cell_type": "code",
   "execution_count": null,
   "id": "91b921e1-61ab-4d7a-bb9f-8e1173ab4347",
   "metadata": {},
   "outputs": [],
   "source": [
    "#results of gridsearch\n",
    "cv.cv_results_"
   ]
  },
  {
   "cell_type": "code",
   "execution_count": 103,
   "id": "eb63d077-b40e-45fe-820f-e082d9b7f35c",
   "metadata": {},
   "outputs": [
    {
     "data": {
      "text/plain": [
       "LogisticRegression(C=10, max_iter=10000, solver='saga')"
      ]
     },
     "execution_count": 103,
     "metadata": {},
     "output_type": "execute_result"
    }
   ],
   "source": [
    "#best estimator\n",
    "cv.best_estimator_"
   ]
  },
  {
   "cell_type": "code",
   "execution_count": 131,
   "id": "34b87cc6-a60b-4432-a98d-9ed0011cf221",
   "metadata": {},
   "outputs": [],
   "source": [
    "X_train_poly=PolynomialFeatures(degree=2).fit_transform(X_train)\n",
    "X_val_poly=PolynomialFeatures(degree=2).fit_transform(X_val)"
   ]
  },
  {
   "cell_type": "code",
   "execution_count": 133,
   "id": "5e6c5ed3-ca74-418e-b5f1-548cd95a9586",
   "metadata": {},
   "outputs": [
    {
     "data": {
      "text/plain": [
       "(623, 66)"
      ]
     },
     "execution_count": 133,
     "metadata": {},
     "output_type": "execute_result"
    }
   ],
   "source": [
    "X_train_poly.shape"
   ]
  },
  {
   "cell_type": "code",
   "execution_count": null,
   "id": "d9bcecaf-e78f-4324-8c46-2724ce343291",
   "metadata": {},
   "outputs": [],
   "source": []
  },
  {
   "cell_type": "code",
   "execution_count": null,
   "id": "89a383f2-7d19-43ea-8a92-4dedeac1d17a",
   "metadata": {},
   "outputs": [],
   "source": []
  },
  {
   "cell_type": "code",
   "execution_count": null,
   "id": "94877f46-1b29-4db7-8a24-c743579c6dc8",
   "metadata": {},
   "outputs": [],
   "source": []
  },
  {
   "cell_type": "code",
   "execution_count": null,
   "id": "7fb42473-7382-40a6-8193-f9f260f9fa6d",
   "metadata": {},
   "outputs": [],
   "source": []
  },
  {
   "cell_type": "code",
   "execution_count": null,
   "id": "489805d1-0af7-45f1-bf60-ea0d935ae694",
   "metadata": {},
   "outputs": [],
   "source": []
  },
  {
   "cell_type": "markdown",
   "id": "1e4da0a6-4bca-4e14-84b5-376f7e0054b7",
   "metadata": {},
   "source": [
    "### Model 4"
   ]
  },
  {
   "cell_type": "code",
   "execution_count": 118,
   "id": "b366d8e8-7085-4cb2-bcb6-b9b5d5d9672b",
   "metadata": {},
   "outputs": [
    {
     "data": {
      "text/plain": [
       "BaggingClassifier(base_estimator=LogisticRegression(C=10, max_iter=10000,\n",
       "                                                    solver='saga'),\n",
       "                  n_estimators=100)"
      ]
     },
     "execution_count": 118,
     "metadata": {},
     "output_type": "execute_result"
    }
   ],
   "source": [
    "#train model\n",
    "bag_logit=BaggingClassifier(LogisticRegression(C=10, max_iter=10000, solver='saga'), n_estimators=100)\n",
    "bag_logit.fit(X_train, y_train)"
   ]
  },
  {
   "cell_type": "code",
   "execution_count": 119,
   "id": "a803832c-ae29-4c99-b504-d7ee93a70189",
   "metadata": {},
   "outputs": [
    {
     "name": "stdout",
     "output_type": "stream",
     "text": [
      "Precision: 0.739\tRecall: 0.680\tf1 Score: 0.708\n"
     ]
    }
   ],
   "source": [
    "#print f1 score, precision and recall\n",
    "y_pred=bag_logit.predict(X_val)\n",
    "f1=f1_score(y_val, y_pred)\n",
    "precision=precision_score(y_val, y_pred)\n",
    "recall=recall_score(y_val, y_pred)\n",
    "print(f'Precision: {precision:.3f}\\tRecall: {recall:.3f}\\tf1 Score: {f1:.3f}')"
   ]
  },
  {
   "cell_type": "code",
   "execution_count": 120,
   "id": "e5dcd211-f335-4374-a227-e71571eebe22",
   "metadata": {},
   "outputs": [
    {
     "data": {
      "text/plain": [
       "array([[144,  24],\n",
       "       [ 32,  68]], dtype=int64)"
      ]
     },
     "execution_count": 120,
     "metadata": {},
     "output_type": "execute_result"
    }
   ],
   "source": [
    "#see number of true and false positives and negatives\n",
    "confusion_matrix(y_val, y_pred)"
   ]
  },
  {
   "cell_type": "code",
   "execution_count": null,
   "id": "4cd0857d-a4cb-4366-80d9-6f6c0980f502",
   "metadata": {},
   "outputs": [],
   "source": []
  },
  {
   "cell_type": "code",
   "execution_count": null,
   "id": "19256b67-0a0c-4d0d-b450-282bc00a820c",
   "metadata": {},
   "outputs": [],
   "source": []
  },
  {
   "cell_type": "code",
   "execution_count": null,
   "id": "f4f0bc86-e855-43cd-8900-39ef89b57ee6",
   "metadata": {},
   "outputs": [],
   "source": []
  },
  {
   "cell_type": "code",
   "execution_count": null,
   "id": "c7b8ea0d-a9b0-4424-bc74-e1c81f574a1d",
   "metadata": {},
   "outputs": [],
   "source": []
  },
  {
   "cell_type": "code",
   "execution_count": null,
   "id": "83c6ac2c-b461-499b-b502-03d2049deea5",
   "metadata": {},
   "outputs": [],
   "source": []
  },
  {
   "cell_type": "markdown",
   "id": "545a9e45-2ebf-4464-a976-a1432ab56e40",
   "metadata": {},
   "source": [
    "### Model 5"
   ]
  },
  {
   "cell_type": "code",
   "execution_count": 122,
   "id": "e835dd71-cac5-4a86-aad0-c5520419e8c2",
   "metadata": {},
   "outputs": [
    {
     "data": {
      "text/plain": [
       "VotingClassifier(estimators=[('logit',\n",
       "                              BaggingClassifier(base_estimator=LogisticRegression(C=10,\n",
       "                                                                                  max_iter=10000,\n",
       "                                                                                  solver='saga'),\n",
       "                                                n_estimators=100)),\n",
       "                             ('forest',\n",
       "                              RandomForestClassifier(criterion='entropy'))],\n",
       "                 voting='soft')"
      ]
     },
     "execution_count": 122,
     "metadata": {},
     "output_type": "execute_result"
    }
   ],
   "source": [
    "#train moddel\n",
    "voting=VotingClassifier([\n",
    "    ('logit', bag_logit),\n",
    "    ('forest', RandomForestClassifier(criterion='entropy'))\n",
    "], voting='soft')\n",
    "voting.fit(X_train, y_train)"
   ]
  },
  {
   "cell_type": "code",
   "execution_count": 127,
   "id": "8b95d50b-f632-4194-9d95-5723a5075b97",
   "metadata": {},
   "outputs": [
    {
     "name": "stdout",
     "output_type": "stream",
     "text": [
      "Precision: 0.795\tRecall: 0.700\tf1 Score: 0.745\n"
     ]
    }
   ],
   "source": [
    "#print f1 score, precision and recall\n",
    "y_pred=voting.predict(X_val)\n",
    "f1=f1_score(y_val, y_pred)\n",
    "precision=precision_score(y_val, y_pred)\n",
    "recall=recall_score(y_val, y_pred)\n",
    "print(f'Precision: {precision:.3f}\\tRecall: {recall:.3f}\\tf1 Score: {f1:.3f}')"
   ]
  },
  {
   "cell_type": "code",
   "execution_count": 126,
   "id": "df25e81b-4e02-4765-99a9-a70f25286400",
   "metadata": {},
   "outputs": [
    {
     "data": {
      "text/plain": [
       "array([[150,  18],\n",
       "       [ 30,  70]], dtype=int64)"
      ]
     },
     "execution_count": 126,
     "metadata": {},
     "output_type": "execute_result"
    }
   ],
   "source": [
    "#see number of true and false positives and negatives\n",
    "confusion_matrix(y_val, y_pred)"
   ]
  }
 ],
 "metadata": {
  "kernelspec": {
   "display_name": "Python 3 (ipykernel)",
   "language": "python",
   "name": "python3"
  },
  "language_info": {
   "codemirror_mode": {
    "name": "ipython",
    "version": 3
   },
   "file_extension": ".py",
   "mimetype": "text/x-python",
   "name": "python",
   "nbconvert_exporter": "python",
   "pygments_lexer": "ipython3",
   "version": "3.9.13"
  }
 },
 "nbformat": 4,
 "nbformat_minor": 5
}
