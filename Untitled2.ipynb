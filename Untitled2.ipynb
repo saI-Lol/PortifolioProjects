{
  "cells": [
    {
      "cell_type": "markdown",
      "metadata": {
        "id": "view-in-github",
        "colab_type": "text"
      },
      "source": [
        "<a href=\"https://colab.research.google.com/github/saI-Lol/PortifolioProjects/blob/main/Untitled2.ipynb\" target=\"_parent\"><img src=\"https://colab.research.google.com/assets/colab-badge.svg\" alt=\"Open In Colab\"/></a>"
      ]
    },
    {
      "cell_type": "code",
      "execution_count": 1,
      "metadata": {
        "id": "X6HwvnFWA8rg"
      },
      "outputs": [],
      "source": [
        "import tensorflow as tf\n",
        "from tensorflow.keras.models import Sequential\n",
        "from tensorflow.keras.layers import Conv2D, BatchNormalization, Dropout, Dense, MaxPool2D, Flatten\n",
        "import matplotlib.pyplot as plt\n",
        "import pandas as pd\n",
        "import numpy as np\n",
        "import os"
      ]
    },
    {
      "cell_type": "code",
      "execution_count": 2,
      "metadata": {
        "id": "I6jZ1bewA_sN"
      },
      "outputs": [],
      "source": [
        "data_dir='/content/drive/MyDrive/drought extent prediction/tfrecords'\n",
        "tfrecord_paths=[]\n",
        "for filename in os.listdir(data_dir):\n",
        "  filepath=os.path.join(data_dir, filename)\n",
        "  tfrecord_paths.append(filepath)"
      ]
    },
    {
      "cell_type": "code",
      "execution_count": 3,
      "metadata": {
        "id": "tQlnBrp6vCfZ"
      },
      "outputs": [],
      "source": [
        "# Define the target image size\n",
        "target_image_size = (224, 224)  # Replace with your desired size\n",
        "batch_size=128\n",
        "\n",
        "# Create a TFRecord dataset\n",
        "raw_dataset = tf.data.TFRecordDataset(tfrecord_paths)\n",
        "\n",
        "# Define a function to parse the TFRecord content\n",
        "def parse_tfrecord_fn(example):\n",
        "    feature_description = {\n",
        "        \"image\": tf.io.FixedLenFeature([], tf.string),\n",
        "        # \"filename\": tf.io.FixedLenFeature([], tf.string),\n",
        "        # \"season\": tf.io.FixedLenFeature([], tf.string),\n",
        "        # \"growth_stage\": tf.io.FixedLenFeature([], tf.string),\n",
        "        \"extent\": tf.io.FixedLenFeature([], tf.int64),\n",
        "    }\n",
        "    example = tf.io.parse_single_example(example, feature_description)\n",
        "    example[\"image\"] = tf.io.decode_jpeg(example[\"image\"], channels=3)\n",
        "    example[\"image\"] = tf.image.resize(example[\"image\"], target_image_size)\n",
        "    example[\"image\"] = tf.image.per_image_standardization(example[\"image\"])\n",
        "    return example\n",
        "\n",
        "def split_features_and_targets(example):\n",
        "    # Extract the 'image' and 'extent' fields\n",
        "    image = example['image']\n",
        "    extent = example['extent']\n",
        "\n",
        "    # Create a binary label (0 for extent == 0, 1 for extent != 0)\n",
        "    # label = tf.cast(tf.math.not_equal(extent, 0), tf.int32)\n",
        "    extent = tf.cast(extent, tf.float32)\n",
        "\n",
        "    # return image, label\n",
        "    return image, extent\n",
        "\n",
        "# Parse the dataset\n",
        "parsed_dataset = raw_dataset.map(parse_tfrecord_fn)\n",
        "\n",
        "filtered_dataset = parsed_dataset.filter(lambda example: example[\"extent\"] != 0)\n",
        "\n",
        "# shuffled_dataset = parsed_dataset.shuffle(100).batch(batch_size, drop_remainder=True).repeat()\n",
        "shuffled_dataset = filtered_dataset.shuffle(100).batch(batch_size, drop_remainder=True).repeat()\n",
        "\n",
        "# Apply the split function to the dataset\n",
        "feature_dataset = shuffled_dataset.map(split_features_and_targets)\n"
      ]
    },
    {
      "cell_type": "code",
      "execution_count": 4,
      "metadata": {
        "colab": {
          "base_uri": "https://localhost:8080/"
        },
        "id": "J-gxWQH_o57K",
        "outputId": "9c216507-397d-4224-f6b6-5f4745787fa3"
      },
      "outputs": [
        {
          "output_type": "stream",
          "name": "stdout",
          "text": [
            "112\n"
          ]
        }
      ],
      "source": [
        "# total_batches = int((26071-3)/128)\n",
        "total_batches = int((14457)/128)\n",
        "print(total_batches)\n",
        "test_ratio = 0.2\n",
        "\n",
        "# Calculate the number of examples for training and testing\n",
        "test_size = int(test_ratio * total_batches)\n",
        "\n",
        "# Split the dataset into training and test sets\n",
        "train_dataset = feature_dataset.skip(test_size)\n",
        "test_dataset = feature_dataset.take(test_size)"
      ]
    },
    {
      "cell_type": "code",
      "execution_count": 5,
      "metadata": {
        "colab": {
          "base_uri": "https://localhost:8080/"
        },
        "id": "twpNum-3soxl",
        "outputId": "eeec9044-453a-4f25-e424-d2297fe9238d"
      },
      "outputs": [
        {
          "output_type": "stream",
          "name": "stdout",
          "text": [
            "90\n"
          ]
        }
      ],
      "source": [
        "total_batches_train = (total_batches-test_size)\n",
        "print(total_batches_train)\n",
        "validation_ratio = 0.2\n",
        "\n",
        "# Calculate the number of examples for training and testing\n",
        "validation_size = int(validation_ratio * total_batches_train)\n",
        "\n",
        "# Split the dataset into training and test sets\n",
        "train__dataset = train_dataset.skip(validation_size)\n",
        "validation_dataset = train_dataset.take(validation_size)"
      ]
    },
    {
      "cell_type": "code",
      "execution_count": 6,
      "metadata": {
        "colab": {
          "base_uri": "https://localhost:8080/"
        },
        "id": "MReF3h5FTpJ8",
        "outputId": "cc8ae577-ec30-4448-89a8-e03617917644"
      },
      "outputs": [
        {
          "output_type": "stream",
          "name": "stdout",
          "text": [
            "72\n",
            "18\n"
          ]
        }
      ],
      "source": [
        "#steps\n",
        "epochs=100\n",
        "steps_per_epoch=(total_batches_train-validation_size)\n",
        "validation_steps=validation_size\n",
        "print(steps_per_epoch)\n",
        "print(validation_steps)"
      ]
    },
    {
      "cell_type": "code",
      "execution_count": 8,
      "metadata": {
        "id": "BsZGZVwXl5On"
      },
      "outputs": [],
      "source": [
        "#callbacks\n",
        "# checkpoint_filepath = '/content/drive/MyDrive/drought extent prediction/model_checkpoint/classifier_checkpoint.h5'\n",
        "checkpoint_filepath = '/content/drive/MyDrive/drought extent prediction/model_checkpoint/regressor_checkpoint.h5'\n",
        "model_checkpoint_callback = tf.keras.callbacks.ModelCheckpoint(\n",
        "    filepath=checkpoint_filepath,\n",
        "    save_weights_only=True,\n",
        "    monitor='val_loss',\n",
        "    mode='min',\n",
        "    save_best_only=True)\n",
        "early_stopping_callback = tf.keras.callbacks.EarlyStopping(monitor='val_loss', patience=15, mode='min')\n",
        "callbacks=[model_checkpoint_callback, early_stopping_callback]"
      ]
    },
    {
      "cell_type": "code",
      "source": [
        "def classifier(initial_epochs,\n",
        "              callbacks,\n",
        "              validation_data,\n",
        "              training_data,\n",
        "              steps_per_epoch,\n",
        "              validation_steps,\n",
        "              batch_size):\n",
        "  model = Sequential()\n",
        "\n",
        "  model.add(Conv2D(filters = 32, kernel_size=4, input_shape = (224, 224, 3), activation= 'relu'))\n",
        "  model.add(BatchNormalization())\n",
        "  model.add(MaxPool2D())\n",
        "  model.add(Conv2D(filters = 64, kernel_size=4,   activation= 'relu'))\n",
        "  model.add(BatchNormalization())\n",
        "  model.add(MaxPool2D())\n",
        "  model.add(Dropout(0.3))\n",
        "  model.add(BatchNormalization())\n",
        "  model.add(Conv2D(filters = 128, kernel_size=4,   activation= 'relu'))\n",
        "  model.add(Conv2D(filters = 128, kernel_size=4,  activation= 'relu'))\n",
        "  model.add(Dropout(0.3))\n",
        "  model.add(BatchNormalization())\n",
        "  model.add(MaxPool2D())\n",
        "  model.add(BatchNormalization())\n",
        "  model.add(Dropout(0.3))\n",
        "  model.add(Flatten())\n",
        "  model.add(Dense(128, activation='relu'))\n",
        "  model.add(Dropout(0.3))\n",
        "  model.add(Dense(1, activation='sigmoid'))\n",
        "\n",
        "  model.compile(optimizer =\"Adam\", loss = 'binary_crossentropy', metrics = ['accuracy', tf.keras.metrics.Recall(), tf.keras.metrics.Precision()])\n",
        "\n",
        "  history = model.fit(\n",
        "      training_data,\n",
        "      epochs=initial_epochs,\n",
        "      validation_data=validation_data,\n",
        "      callbacks=callbacks,\n",
        "      batch_size=batch_size,\n",
        "      steps_per_epoch=steps_per_epoch,\n",
        "      validation_steps=validation_steps)\n",
        "\n",
        "  return model, history"
      ],
      "metadata": {
        "id": "zM8X3TIyfzvb"
      },
      "execution_count": null,
      "outputs": []
    },
    {
      "cell_type": "code",
      "source": [
        "def regressor(epochs,\n",
        "              callbacks,\n",
        "              validation_data,\n",
        "              training_data,\n",
        "              steps_per_epoch,\n",
        "              validation_steps,\n",
        "              batch_size):\n",
        "  model = Sequential()\n",
        "\n",
        "  model.add(Conv2D(filters = 32, kernel_size=4, input_shape = (224, 224, 3), activation= 'relu'))\n",
        "  model.add(BatchNormalization())\n",
        "  model.add(MaxPool2D())\n",
        "  model.add(Conv2D(filters = 64, kernel_size=4,   activation= 'relu'))\n",
        "  model.add(BatchNormalization())\n",
        "  model.add(MaxPool2D())\n",
        "  model.add(Dropout(0.3))\n",
        "  model.add(BatchNormalization())\n",
        "  model.add(Conv2D(filters = 128, kernel_size=4,   activation= 'relu'))\n",
        "  model.add(Conv2D(filters = 128, kernel_size=4,  activation= 'relu'))\n",
        "  model.add(Dropout(0.3))\n",
        "  model.add(BatchNormalization())\n",
        "  model.add(MaxPool2D())\n",
        "  model.add(BatchNormalization())\n",
        "  model.add(Dropout(0.3))\n",
        "  model.add(Flatten())\n",
        "  model.add(Dense(128, activation='relu'))\n",
        "  model.add(Dropout(0.3))\n",
        "  model.add(Dense(1, activation='relu'))\n",
        "\n",
        "  model.compile(optimizer =\"Adam\", loss = tf.keras.losses.MeanSquaredError(), metrics = [tf.keras.metrics.MeanAbsoluteError()])\n",
        "\n",
        "  history = model.fit(\n",
        "      training_data,\n",
        "      epochs=epochs,\n",
        "      validation_data=validation_data,\n",
        "      callbacks=callbacks,\n",
        "      batch_size=batch_size,\n",
        "      steps_per_epoch=steps_per_epoch,\n",
        "      validation_steps=validation_steps)\n",
        "\n",
        "  return model, history\n",
        "\n",
        "\n",
        "model, history=regressor(epochs, callbacks, validation_dataset, train__dataset, steps_per_epoch, validation_steps, batch_size)"
      ],
      "metadata": {
        "colab": {
          "base_uri": "https://localhost:8080/",
          "height": 1000
        },
        "id": "b3n9QjFqdKah",
        "outputId": "f84f50ba-cd46-42a3-8f5e-9df18558d60c"
      },
      "execution_count": 9,
      "outputs": [
        {
          "metadata": {
            "tags": null
          },
          "name": "stdout",
          "output_type": "stream",
          "text": [
            "Epoch 1/100\n",
            "72/72 [==============================] - 506s 5s/step - loss: 827.5513 - mean_absolute_error: 19.1945 - val_loss: 242.6037 - val_mean_absolute_error: 11.8055\n",
            "Epoch 2/100\n",
            "72/72 [==============================] - 374s 5s/step - loss: 659.9677 - mean_absolute_error: 19.5115 - val_loss: 385.4076 - val_mean_absolute_error: 15.8546\n",
            "Epoch 3/100\n",
            "72/72 [==============================] - 320s 5s/step - loss: 406.4624 - mean_absolute_error: 15.1016 - val_loss: 396.5801 - val_mean_absolute_error: 16.2793\n",
            "Epoch 4/100\n",
            "72/72 [==============================] - 401s 6s/step - loss: 495.7951 - mean_absolute_error: 15.8658 - val_loss: 319.2647 - val_mean_absolute_error: 13.7547\n",
            "Epoch 5/100\n",
            "72/72 [==============================] - 421s 6s/step - loss: 502.1567 - mean_absolute_error: 16.8140 - val_loss: 252.5369 - val_mean_absolute_error: 12.2250\n",
            "Epoch 6/100\n",
            "72/72 [==============================] - 407s 6s/step - loss: 305.6760 - mean_absolute_error: 12.5199 - val_loss: 558.7634 - val_mean_absolute_error: 20.3127\n",
            "Epoch 7/100\n",
            "72/72 [==============================] - 389s 5s/step - loss: 545.0710 - mean_absolute_error: 16.9030 - val_loss: 353.9541 - val_mean_absolute_error: 15.0450\n",
            "Epoch 8/100\n",
            "72/72 [==============================] - 438s 6s/step - loss: 505.4758 - mean_absolute_error: 16.3577 - val_loss: 312.1519 - val_mean_absolute_error: 14.9533\n",
            "Epoch 9/100\n",
            "72/72 [==============================] - 313s 4s/step - loss: 327.4148 - mean_absolute_error: 12.9090 - val_loss: 425.2811 - val_mean_absolute_error: 17.1402\n",
            "Epoch 10/100\n",
            "72/72 [==============================] - 416s 6s/step - loss: 533.7032 - mean_absolute_error: 16.5968 - val_loss: 447.8868 - val_mean_absolute_error: 17.6208\n",
            "Epoch 11/100\n",
            "72/72 [==============================] - 327s 5s/step - loss: 465.9937 - mean_absolute_error: 15.2667 - val_loss: 579.7817 - val_mean_absolute_error: 21.1906\n",
            "Epoch 12/100\n",
            "72/72 [==============================] - 279s 4s/step - loss: 443.3360 - mean_absolute_error: 14.8543 - val_loss: 239.8012 - val_mean_absolute_error: 11.6239\n",
            "Epoch 13/100\n",
            "72/72 [==============================] - 382s 5s/step - loss: 494.9782 - mean_absolute_error: 16.1693 - val_loss: 234.7616 - val_mean_absolute_error: 12.1528\n",
            "Epoch 14/100\n",
            "72/72 [==============================] - 249s 4s/step - loss: 370.4883 - mean_absolute_error: 13.6721 - val_loss: 179.3583 - val_mean_absolute_error: 10.1179\n",
            "Epoch 15/100\n",
            "72/72 [==============================] - 315s 4s/step - loss: 551.6548 - mean_absolute_error: 16.0598 - val_loss: 182.0322 - val_mean_absolute_error: 10.2378\n",
            "Epoch 16/100\n",
            "72/72 [==============================] - 403s 6s/step - loss: 541.4532 - mean_absolute_error: 17.3210 - val_loss: 398.0945 - val_mean_absolute_error: 16.2269\n",
            "Epoch 17/100\n",
            "72/72 [==============================] - 296s 4s/step - loss: 363.9351 - mean_absolute_error: 13.4675 - val_loss: 385.0829 - val_mean_absolute_error: 16.0213\n",
            "Epoch 18/100\n",
            "72/72 [==============================] - 436s 6s/step - loss: 566.1053 - mean_absolute_error: 16.4480 - val_loss: 335.0677 - val_mean_absolute_error: 14.5565\n",
            "Epoch 19/100\n",
            "72/72 [==============================] - 474s 7s/step - loss: 573.8147 - mean_absolute_error: 17.6540 - val_loss: 171.1572 - val_mean_absolute_error: 10.1724\n",
            "Epoch 20/100\n",
            "72/72 [==============================] - 347s 5s/step - loss: 321.7776 - mean_absolute_error: 12.3713 - val_loss: 447.5725 - val_mean_absolute_error: 17.6241\n",
            "Epoch 21/100\n",
            "72/72 [==============================] - 379s 5s/step - loss: 591.9342 - mean_absolute_error: 17.5073 - val_loss: 444.4579 - val_mean_absolute_error: 17.5267\n",
            "Epoch 22/100\n",
            "72/72 [==============================] - 456s 6s/step - loss: 548.8862 - mean_absolute_error: 16.9782 - val_loss: 1055.3931 - val_mean_absolute_error: 29.5229\n",
            "Epoch 23/100\n",
            "72/72 [==============================] - 290s 4s/step - loss: 498.5336 - mean_absolute_error: 16.3096 - val_loss: 301.8793 - val_mean_absolute_error: 13.4748\n",
            "Epoch 24/100\n",
            "72/72 [==============================] - 382s 5s/step - loss: 511.6613 - mean_absolute_error: 16.9706 - val_loss: 312.5484 - val_mean_absolute_error: 15.2338\n",
            "Epoch 25/100\n",
            "72/72 [==============================] - 275s 4s/step - loss: 461.9113 - mean_absolute_error: 15.5505 - val_loss: 1119.0181 - val_mean_absolute_error: 31.1800\n",
            "Epoch 26/100\n",
            "72/72 [==============================] - 319s 4s/step - loss: 371.2060 - mean_absolute_error: 14.1124 - val_loss: 208.8927 - val_mean_absolute_error: 12.0204\n",
            "Epoch 27/100\n",
            "72/72 [==============================] - 387s 5s/step - loss: 501.8270 - mean_absolute_error: 16.2301 - val_loss: 183.3924 - val_mean_absolute_error: 10.1674\n",
            "Epoch 28/100\n",
            "72/72 [==============================] - 256s 4s/step - loss: 363.7787 - mean_absolute_error: 13.7410 - val_loss: 223.0166 - val_mean_absolute_error: 12.1295\n",
            "Epoch 29/100\n",
            "72/72 [==============================] - 341s 5s/step - loss: 527.0349 - mean_absolute_error: 16.3169 - val_loss: 251.9384 - val_mean_absolute_error: 12.2607\n",
            "Epoch 30/100\n",
            "72/72 [==============================] - 342s 5s/step - loss: 464.3479 - mean_absolute_error: 16.5136 - val_loss: 278.0240 - val_mean_absolute_error: 13.4540\n",
            "Epoch 31/100\n",
            "72/72 [==============================] - 369s 5s/step - loss: 346.8295 - mean_absolute_error: 13.5728 - val_loss: 144.0506 - val_mean_absolute_error: 9.2378\n",
            "Epoch 32/100\n",
            "72/72 [==============================] - 349s 5s/step - loss: 502.5035 - mean_absolute_error: 15.2342 - val_loss: 155.5729 - val_mean_absolute_error: 10.1216\n",
            "Epoch 33/100\n",
            "72/72 [==============================] - 437s 6s/step - loss: 562.8392 - mean_absolute_error: 17.5282 - val_loss: 157.0643 - val_mean_absolute_error: 9.9261\n",
            "Epoch 34/100\n",
            "72/72 [==============================] - 381s 5s/step - loss: 306.0105 - mean_absolute_error: 12.0242 - val_loss: 269.6937 - val_mean_absolute_error: 12.2960\n",
            "Epoch 35/100\n",
            "72/72 [==============================] - 383s 5s/step - loss: 613.4667 - mean_absolute_error: 18.5540 - val_loss: 238.5599 - val_mean_absolute_error: 11.5371\n",
            "Epoch 36/100\n",
            "72/72 [==============================] - 403s 6s/step - loss: 528.5004 - mean_absolute_error: 16.4958 - val_loss: 232.2360 - val_mean_absolute_error: 11.5546\n",
            "Epoch 37/100\n",
            "72/72 [==============================] - 316s 4s/step - loss: 365.8306 - mean_absolute_error: 13.8338 - val_loss: 292.0964 - val_mean_absolute_error: 12.8829\n",
            "Epoch 38/100\n",
            "72/72 [==============================] - 357s 5s/step - loss: 570.1825 - mean_absolute_error: 17.8374 - val_loss: 293.5303 - val_mean_absolute_error: 13.0136\n",
            "Epoch 39/100\n",
            "72/72 [==============================] - 385s 5s/step - loss: 464.8197 - mean_absolute_error: 14.7192 - val_loss: 269.1932 - val_mean_absolute_error: 12.4057\n",
            "Epoch 40/100\n",
            "44/72 [=================>............] - ETA: 16s - loss: 522.7334 - mean_absolute_error: 17.9042"
          ]
        },
        {
          "ename": "FailedPreconditionError",
          "evalue": "ignored",
          "output_type": "error",
          "traceback": [
            "\u001b[0;31m---------------------------------------------------------------------------\u001b[0m",
            "\u001b[0;31mFailedPreconditionError\u001b[0m                   Traceback (most recent call last)",
            "\u001b[0;32m<ipython-input-9-51ec91e593bf>\u001b[0m in \u001b[0;36m<cell line: 44>\u001b[0;34m()\u001b[0m\n\u001b[1;32m     42\u001b[0m \u001b[0;34m\u001b[0m\u001b[0m\n\u001b[1;32m     43\u001b[0m \u001b[0;34m\u001b[0m\u001b[0m\n\u001b[0;32m---> 44\u001b[0;31m \u001b[0mmodel\u001b[0m\u001b[0;34m,\u001b[0m \u001b[0mhistory\u001b[0m\u001b[0;34m=\u001b[0m\u001b[0mregressor\u001b[0m\u001b[0;34m(\u001b[0m\u001b[0mepochs\u001b[0m\u001b[0;34m,\u001b[0m \u001b[0mcallbacks\u001b[0m\u001b[0;34m,\u001b[0m \u001b[0mvalidation_dataset\u001b[0m\u001b[0;34m,\u001b[0m \u001b[0mtrain__dataset\u001b[0m\u001b[0;34m,\u001b[0m \u001b[0msteps_per_epoch\u001b[0m\u001b[0;34m,\u001b[0m \u001b[0mvalidation_steps\u001b[0m\u001b[0;34m,\u001b[0m \u001b[0mbatch_size\u001b[0m\u001b[0;34m)\u001b[0m\u001b[0;34m\u001b[0m\u001b[0;34m\u001b[0m\u001b[0m\n\u001b[0m",
            "\u001b[0;32m<ipython-input-9-51ec91e593bf>\u001b[0m in \u001b[0;36mregressor\u001b[0;34m(epochs, callbacks, validation_data, training_data, steps_per_epoch, validation_steps, batch_size)\u001b[0m\n\u001b[1;32m     30\u001b[0m   \u001b[0mmodel\u001b[0m\u001b[0;34m.\u001b[0m\u001b[0mcompile\u001b[0m\u001b[0;34m(\u001b[0m\u001b[0moptimizer\u001b[0m \u001b[0;34m=\u001b[0m\u001b[0;34m\"Adam\"\u001b[0m\u001b[0;34m,\u001b[0m \u001b[0mloss\u001b[0m \u001b[0;34m=\u001b[0m \u001b[0mtf\u001b[0m\u001b[0;34m.\u001b[0m\u001b[0mkeras\u001b[0m\u001b[0;34m.\u001b[0m\u001b[0mlosses\u001b[0m\u001b[0;34m.\u001b[0m\u001b[0mMeanSquaredError\u001b[0m\u001b[0;34m(\u001b[0m\u001b[0;34m)\u001b[0m\u001b[0;34m,\u001b[0m \u001b[0mmetrics\u001b[0m \u001b[0;34m=\u001b[0m \u001b[0;34m[\u001b[0m\u001b[0mtf\u001b[0m\u001b[0;34m.\u001b[0m\u001b[0mkeras\u001b[0m\u001b[0;34m.\u001b[0m\u001b[0mmetrics\u001b[0m\u001b[0;34m.\u001b[0m\u001b[0mMeanAbsoluteError\u001b[0m\u001b[0;34m(\u001b[0m\u001b[0;34m)\u001b[0m\u001b[0;34m]\u001b[0m\u001b[0;34m)\u001b[0m\u001b[0;34m\u001b[0m\u001b[0;34m\u001b[0m\u001b[0m\n\u001b[1;32m     31\u001b[0m \u001b[0;34m\u001b[0m\u001b[0m\n\u001b[0;32m---> 32\u001b[0;31m   history = model.fit(\n\u001b[0m\u001b[1;32m     33\u001b[0m       \u001b[0mtraining_data\u001b[0m\u001b[0;34m,\u001b[0m\u001b[0;34m\u001b[0m\u001b[0;34m\u001b[0m\u001b[0m\n\u001b[1;32m     34\u001b[0m       \u001b[0mepochs\u001b[0m\u001b[0;34m=\u001b[0m\u001b[0mepochs\u001b[0m\u001b[0;34m,\u001b[0m\u001b[0;34m\u001b[0m\u001b[0;34m\u001b[0m\u001b[0m\n",
            "\u001b[0;32m/usr/local/lib/python3.10/dist-packages/keras/src/utils/traceback_utils.py\u001b[0m in \u001b[0;36merror_handler\u001b[0;34m(*args, **kwargs)\u001b[0m\n\u001b[1;32m     68\u001b[0m             \u001b[0;31m# To get the full stack trace, call:\u001b[0m\u001b[0;34m\u001b[0m\u001b[0;34m\u001b[0m\u001b[0m\n\u001b[1;32m     69\u001b[0m             \u001b[0;31m# `tf.debugging.disable_traceback_filtering()`\u001b[0m\u001b[0;34m\u001b[0m\u001b[0;34m\u001b[0m\u001b[0m\n\u001b[0;32m---> 70\u001b[0;31m             \u001b[0;32mraise\u001b[0m \u001b[0me\u001b[0m\u001b[0;34m.\u001b[0m\u001b[0mwith_traceback\u001b[0m\u001b[0;34m(\u001b[0m\u001b[0mfiltered_tb\u001b[0m\u001b[0;34m)\u001b[0m \u001b[0;32mfrom\u001b[0m \u001b[0;32mNone\u001b[0m\u001b[0;34m\u001b[0m\u001b[0;34m\u001b[0m\u001b[0m\n\u001b[0m\u001b[1;32m     71\u001b[0m         \u001b[0;32mfinally\u001b[0m\u001b[0;34m:\u001b[0m\u001b[0;34m\u001b[0m\u001b[0;34m\u001b[0m\u001b[0m\n\u001b[1;32m     72\u001b[0m             \u001b[0;32mdel\u001b[0m \u001b[0mfiltered_tb\u001b[0m\u001b[0;34m\u001b[0m\u001b[0;34m\u001b[0m\u001b[0m\n",
            "\u001b[0;32m/usr/local/lib/python3.10/dist-packages/tensorflow/python/eager/execute.py\u001b[0m in \u001b[0;36mquick_execute\u001b[0;34m(op_name, num_outputs, inputs, attrs, ctx, name)\u001b[0m\n\u001b[1;32m     51\u001b[0m   \u001b[0;32mtry\u001b[0m\u001b[0;34m:\u001b[0m\u001b[0;34m\u001b[0m\u001b[0;34m\u001b[0m\u001b[0m\n\u001b[1;32m     52\u001b[0m     \u001b[0mctx\u001b[0m\u001b[0;34m.\u001b[0m\u001b[0mensure_initialized\u001b[0m\u001b[0;34m(\u001b[0m\u001b[0;34m)\u001b[0m\u001b[0;34m\u001b[0m\u001b[0;34m\u001b[0m\u001b[0m\n\u001b[0;32m---> 53\u001b[0;31m     tensors = pywrap_tfe.TFE_Py_Execute(ctx._handle, device_name, op_name,\n\u001b[0m\u001b[1;32m     54\u001b[0m                                         inputs, attrs, num_outputs)\n\u001b[1;32m     55\u001b[0m   \u001b[0;32mexcept\u001b[0m \u001b[0mcore\u001b[0m\u001b[0;34m.\u001b[0m\u001b[0m_NotOkStatusException\u001b[0m \u001b[0;32mas\u001b[0m \u001b[0me\u001b[0m\u001b[0;34m:\u001b[0m\u001b[0;34m\u001b[0m\u001b[0;34m\u001b[0m\u001b[0m\n",
            "\u001b[0;31mFailedPreconditionError\u001b[0m: Graph execution error:\n\nDetected at node 'IteratorGetNext' defined at (most recent call last):\n    File \"/usr/lib/python3.10/runpy.py\", line 196, in _run_module_as_main\n      return _run_code(code, main_globals, None,\n    File \"/usr/lib/python3.10/runpy.py\", line 86, in _run_code\n      exec(code, run_globals)\n    File \"/usr/local/lib/python3.10/dist-packages/colab_kernel_launcher.py\", line 37, in <module>\n      ColabKernelApp.launch_instance()\n    File \"/usr/local/lib/python3.10/dist-packages/traitlets/config/application.py\", line 992, in launch_instance\n      app.start()\n    File \"/usr/local/lib/python3.10/dist-packages/ipykernel/kernelapp.py\", line 619, in start\n      self.io_loop.start()\n    File \"/usr/local/lib/python3.10/dist-packages/tornado/platform/asyncio.py\", line 195, in start\n      self.asyncio_loop.run_forever()\n    File \"/usr/lib/python3.10/asyncio/base_events.py\", line 603, in run_forever\n      self._run_once()\n    File \"/usr/lib/python3.10/asyncio/base_events.py\", line 1909, in _run_once\n      handle._run()\n    File \"/usr/lib/python3.10/asyncio/events.py\", line 80, in _run\n      self._context.run(self._callback, *self._args)\n    File \"/usr/local/lib/python3.10/dist-packages/tornado/ioloop.py\", line 685, in <lambda>\n      lambda f: self._run_callback(functools.partial(callback, future))\n    File \"/usr/local/lib/python3.10/dist-packages/tornado/ioloop.py\", line 738, in _run_callback\n      ret = callback()\n    File \"/usr/local/lib/python3.10/dist-packages/tornado/gen.py\", line 825, in inner\n      self.ctx_run(self.run)\n    File \"/usr/local/lib/python3.10/dist-packages/tornado/gen.py\", line 786, in run\n      yielded = self.gen.send(value)\n    File \"/usr/local/lib/python3.10/dist-packages/ipykernel/kernelbase.py\", line 361, in process_one\n      yield gen.maybe_future(dispatch(*args))\n    File \"/usr/local/lib/python3.10/dist-packages/tornado/gen.py\", line 234, in wrapper\n      yielded = ctx_run(next, result)\n    File \"/usr/local/lib/python3.10/dist-packages/ipykernel/kernelbase.py\", line 261, in dispatch_shell\n      yield gen.maybe_future(handler(stream, idents, msg))\n    File \"/usr/local/lib/python3.10/dist-packages/tornado/gen.py\", line 234, in wrapper\n      yielded = ctx_run(next, result)\n    File \"/usr/local/lib/python3.10/dist-packages/ipykernel/kernelbase.py\", line 539, in execute_request\n      self.do_execute(\n    File \"/usr/local/lib/python3.10/dist-packages/tornado/gen.py\", line 234, in wrapper\n      yielded = ctx_run(next, result)\n    File \"/usr/local/lib/python3.10/dist-packages/ipykernel/ipkernel.py\", line 302, in do_execute\n      res = shell.run_cell(code, store_history=store_history, silent=silent)\n    File \"/usr/local/lib/python3.10/dist-packages/ipykernel/zmqshell.py\", line 539, in run_cell\n      return super(ZMQInteractiveShell, self).run_cell(*args, **kwargs)\n    File \"/usr/local/lib/python3.10/dist-packages/IPython/core/interactiveshell.py\", line 2975, in run_cell\n      result = self._run_cell(\n    File \"/usr/local/lib/python3.10/dist-packages/IPython/core/interactiveshell.py\", line 3030, in _run_cell\n      return runner(coro)\n    File \"/usr/local/lib/python3.10/dist-packages/IPython/core/async_helpers.py\", line 78, in _pseudo_sync_runner\n      coro.send(None)\n    File \"/usr/local/lib/python3.10/dist-packages/IPython/core/interactiveshell.py\", line 3257, in run_cell_async\n      has_raised = await self.run_ast_nodes(code_ast.body, cell_name,\n    File \"/usr/local/lib/python3.10/dist-packages/IPython/core/interactiveshell.py\", line 3473, in run_ast_nodes\n      if (await self.run_code(code, result,  async_=asy)):\n    File \"/usr/local/lib/python3.10/dist-packages/IPython/core/interactiveshell.py\", line 3553, in run_code\n      exec(code_obj, self.user_global_ns, self.user_ns)\n    File \"<ipython-input-9-51ec91e593bf>\", line 44, in <cell line: 44>\n      model, history=regressor(epochs, callbacks, validation_dataset, train__dataset, steps_per_epoch, validation_steps, batch_size)\n    File \"<ipython-input-9-51ec91e593bf>\", line 32, in regressor\n      history = model.fit(\n    File \"/usr/local/lib/python3.10/dist-packages/keras/src/utils/traceback_utils.py\", line 65, in error_handler\n      return fn(*args, **kwargs)\n    File \"/usr/local/lib/python3.10/dist-packages/keras/src/engine/training.py\", line 1742, in fit\n      tmp_logs = self.train_function(iterator)\n    File \"/usr/local/lib/python3.10/dist-packages/keras/src/engine/training.py\", line 1338, in train_function\n      return step_function(self, iterator)\n    File \"/usr/local/lib/python3.10/dist-packages/keras/src/engine/training.py\", line 1321, in step_function\n      data = next(iterator)\nNode: 'IteratorGetNext'\nDetected at node 'IteratorGetNext' defined at (most recent call last):\n    File \"/usr/lib/python3.10/runpy.py\", line 196, in _run_module_as_main\n      return _run_code(code, main_globals, None,\n    File \"/usr/lib/python3.10/runpy.py\", line 86, in _run_code\n      exec(code, run_globals)\n    File \"/usr/local/lib/python3.10/dist-packages/colab_kernel_launcher.py\", line 37, in <module>\n      ColabKernelApp.launch_instance()\n    File \"/usr/local/lib/python3.10/dist-packages/traitlets/config/application.py\", line 992, in launch_instance\n      app.start()\n    File \"/usr/local/lib/python3.10/dist-packages/ipykernel/kernelapp.py\", line 619, in start\n      self.io_loop.start()\n    File \"/usr/local/lib/python3.10/dist-packages/tornado/platform/asyncio.py\", line 195, in start\n      self.asyncio_loop.run_forever()\n    File \"/usr/lib/python3.10/asyncio/base_events.py\", line 603, in run_forever\n      self._run_once()\n    File \"/usr/lib/python3.10/asyncio/base_events.py\", line 1909, in _run_once\n      handle._run()\n    File \"/usr/lib/python3.10/asyncio/events.py\", line 80, in _run\n      self._context.run(self._callback, *self._args)\n    File \"/usr/local/lib/python3.10/dist-packages/tornado/ioloop.py\", line 685, in <lambda>\n      lambda f: self._run_callback(functools.partial(callback, future))\n    File \"/usr/local/lib/python3.10/dist-packages/tornado/ioloop.py\", line 738, in _run_callback\n      ret = callback()\n    File \"/usr/local/lib/python3.10/dist-packages/tornado/gen.py\", line 825, in inner\n      self.ctx_run(self.run)\n    File \"/usr/local/lib/python3.10/dist-packages/tornado/gen.py\", line 786, in run\n      yielded = self.gen.send(value)\n    File \"/usr/local/lib/python3.10/dist-packages/ipykernel/kernelbase.py\", line 361, in process_one\n      yield gen.maybe_future(dispatch(*args))\n    File \"/usr/local/lib/python3.10/dist-packages/tornado/gen.py\", line 234, in wrapper\n      yielded = ctx_run(next, result)\n    File \"/usr/local/lib/python3.10/dist-packages/ipykernel/kernelbase.py\", line 261, in dispatch_shell\n      yield gen.maybe_future(handler(stream, idents, msg))\n    File \"/usr/local/lib/python3.10/dist-packages/tornado/gen.py\", line 234, in wrapper\n      yielded = ctx_run(next, result)\n    File \"/usr/local/lib/python3.10/dist-packages/ipykernel/kernelbase.py\", line 539, in execute_request\n      self.do_execute(\n    File \"/usr/local/lib/python3.10/dist-packages/tornado/gen.py\", line 234, in wrapper\n      yielded = ctx_run(next, result)\n    File \"/usr/local/lib/python3.10/dist-packages/ipykernel/ipkernel.py\", line 302, in do_execute\n      res = shell.run_cell(code, store_history=store_history, silent=silent)\n    File \"/usr/local/lib/python3.10/dist-packages/ipykernel/zmqshell.py\", line 539, in run_cell\n      return super(ZMQInteractiveShell, self).run_cell(*args, **kwargs)\n    File \"/usr/local/lib/python3.10/dist-packages/IPython/core/interactiveshell.py\", line 2975, in run_cell\n      result = self._run_cell(\n    File \"/usr/local/lib/python3.10/dist-packages/IPython/core/interactiveshell.py\", line 3030, in _run_cell\n      return runner(coro)\n    File \"/usr/local/lib/python3.10/dist-packages/IPython/core/async_helpers.py\", line 78, in _pseudo_sync_runner\n      coro.send(None)\n    File \"/usr/local/lib/python3.10/dist-packages/IPython/core/interactiveshell.py\", line 3257, in run_cell_async\n      has_raised = await self.run_ast_nodes(code_ast.body, cell_name,\n    File \"/usr/local/lib/python3.10/dist-packages/IPython/core/interactiveshell.py\", line 3473, in run_ast_nodes\n      if (await self.run_code(code, result,  async_=asy)):\n    File \"/usr/local/lib/python3.10/dist-packages/IPython/core/interactiveshell.py\", line 3553, in run_code\n      exec(code_obj, self.user_global_ns, self.user_ns)\n    File \"<ipython-input-9-51ec91e593bf>\", line 44, in <cell line: 44>\n      model, history=regressor(epochs, callbacks, validation_dataset, train__dataset, steps_per_epoch, validation_steps, batch_size)\n    File \"<ipython-input-9-51ec91e593bf>\", line 32, in regressor\n      history = model.fit(\n    File \"/usr/local/lib/python3.10/dist-packages/keras/src/utils/traceback_utils.py\", line 65, in error_handler\n      return fn(*args, **kwargs)\n    File \"/usr/local/lib/python3.10/dist-packages/keras/src/engine/training.py\", line 1742, in fit\n      tmp_logs = self.train_function(iterator)\n    File \"/usr/local/lib/python3.10/dist-packages/keras/src/engine/training.py\", line 1338, in train_function\n      return step_function(self, iterator)\n    File \"/usr/local/lib/python3.10/dist-packages/keras/src/engine/training.py\", line 1321, in step_function\n      data = next(iterator)\nNode: 'IteratorGetNext'\n2 root error(s) found.\n  (0) FAILED_PRECONDITION:  /content/drive/MyDrive/drought extent prediction/tfrecords/file_6-1000.tfrec; Transport endpoint is not connected\n\t [[{{node IteratorGetNext}}]]\n\t [[IteratorGetNext/_7]]\n  (1) FAILED_PRECONDITION:  /content/drive/MyDrive/drought extent prediction/tfrecords/file_6-1000.tfrec; Transport endpoint is not connected\n\t [[{{node IteratorGetNext}}]]\n0 successful operations.\n0 derived errors ignored. [Op:__inference_train_function_2859]"
          ]
        }
      ]
    },
    {
      "cell_type": "code",
      "source": [
        "validation_dataset"
      ],
      "metadata": {
        "colab": {
          "base_uri": "https://localhost:8080/"
        },
        "id": "ECPwey_4XPec",
        "outputId": "eecd3622-a81d-4ce3-ba4a-79fcd799c4b0"
      },
      "execution_count": 10,
      "outputs": [
        {
          "output_type": "execute_result",
          "data": {
            "text/plain": [
              "<_TakeDataset element_spec=(TensorSpec(shape=(128, 224, 224, 3), dtype=tf.float32, name=None), TensorSpec(shape=(128,), dtype=tf.float32, name=None))>"
            ]
          },
          "metadata": {},
          "execution_count": 10
        }
      ]
    },
    {
      "cell_type": "code",
      "source": [
        "data_dir\n"
      ],
      "metadata": {
        "colab": {
          "base_uri": "https://localhost:8080/",
          "height": 35
        },
        "id": "zgF22lu3YNTH",
        "outputId": "52432fcc-cde6-46d1-be63-55155f5e9c7f"
      },
      "execution_count": 12,
      "outputs": [
        {
          "output_type": "execute_result",
          "data": {
            "text/plain": [
              "'/content/drive/MyDrive/drought extent prediction'"
            ],
            "application/vnd.google.colaboratory.intrinsic+json": {
              "type": "string"
            }
          },
          "metadata": {},
          "execution_count": 12
        }
      ]
    },
    {
      "cell_type": "code",
      "source": [
        "home_dir=os.path.dirname(data_dir)\n",
        "validation_dataset_output_path = f\"{home_dir}/datasets/validation.tfrecord\"\n",
        "\n",
        "# Define a function to serialize data and save it to a TFRecord file\n",
        "def serialize_example(feature, label):\n",
        "    # Create a dictionary to describe the features\n",
        "    feature_description = {\n",
        "        'feature': tf.io.FixedLenFeature([224, 224, 3], tf.float32),\n",
        "        'label': tf.io.FixedLenFeature([1], tf.float32),\n",
        "    }\n",
        "\n",
        "    # Create a Features message using tf.train.Example\n",
        "    example = tf.train.Example(features=tf.train.Features(feature={\n",
        "        'feature': tf.train.Feature(float_list=tf.train.FloatList(value=feature.numpy().flatten())),\n",
        "        'label': tf.train.Feature(float_list=tf.train.FloatList(value=label.numpy())),\n",
        "    }))\n",
        "\n",
        "    return example.SerializeToString()\n",
        "\n",
        "# Serialize and save the dataset to a TFRecord file\n",
        "with tf.io.TFRecordWriter(validation_dataset_output_path) as writer:\n",
        "    for feature, label in validation_dataset:\n",
        "        example = serialize_example(feature, label)\n",
        "        writer.write(example)\n"
      ],
      "metadata": {
        "id": "hCFz6pEDYInp"
      },
      "execution_count": 13,
      "outputs": []
    },
    {
      "cell_type": "code",
      "source": [
        "test_dataset_output_path=f\"{home_dir}/datasets/test.tfrecord\"\n",
        "with tf.io.TFRecordWriter(test_dataset_output_path) as writer:\n",
        "    for feature, label in test_dataset:\n",
        "        example = serialize_example(feature, label)\n",
        "        writer.write(example)"
      ],
      "metadata": {
        "id": "MttbVJ3cbnIo"
      },
      "execution_count": 14,
      "outputs": []
    },
    {
      "cell_type": "code",
      "source": [
        "train_dataset_output_path=f\"{home_dir}/datasets/train.tfrecord\"\n",
        "with tf.io.TFRecordWriter(train_dataset_output_path) as writer:\n",
        "    for feature, label in train__dataset:\n",
        "        example = serialize_example(feature, label)\n",
        "        writer.write(example)"
      ],
      "metadata": {
        "id": "mS-pftGdcERc"
      },
      "execution_count": null,
      "outputs": []
    },
    {
      "cell_type": "code",
      "source": [
        "import seaborn as sns\n",
        "history_data=history.history.copy()\n",
        "history_data['epoch']=history.epoch\n",
        "history_df=pd.DataFrame(history_data)\n",
        "sns.lineplot(data=history_df, x='epoch', y='loss', label=\"training loss\")\n",
        "sns.lineplot(data=history_df, x='epoch', y='val_loss', label=\"validation loss\")\n",
        "plt.show()"
      ],
      "metadata": {
        "colab": {
          "base_uri": "https://localhost:8080/",
          "height": 453
        },
        "id": "Hf11zbv-8Fjq",
        "outputId": "7665bc2f-8859-46c0-fa2b-c6ed06f955ba"
      },
      "execution_count": null,
      "outputs": [
        {
          "output_type": "display_data",
          "data": {
            "text/plain": [
              "<Figure size 640x480 with 1 Axes>"
            ],
            "image/png": "[encoded data removed]"
          },
          "metadata": {}
        }
      ]
    },
    {
      "cell_type": "code",
      "source": [
        "model.evaluate(test_dataset)"
      ],
      "metadata": {
        "colab": {
          "base_uri": "https://localhost:8080/"
        },
        "id": "dCMh0YtT9Tyx",
        "outputId": "61d502f3-5faf-4ea6-9b1c-645f4ac95d5c"
      },
      "execution_count": null,
      "outputs": [
        {
          "output_type": "stream",
          "name": "stdout",
          "text": [
            "22/22 [==============================] - 53s 2s/step - loss: 143.3239 - mean_absolute_error: 8.2655\n"
          ]
        },
        {
          "output_type": "execute_result",
          "data": {
            "text/plain": [
              "[143.32388305664062, 8.265501022338867]"
            ]
          },
          "metadata": {},
          "execution_count": 25
        }
      ]
    },
    {
      "cell_type": "code",
      "source": [
        "model, history=classifier(5, callbacks, validation_dataset, train__dataset, steps_per_epoch, validation_steps, batch_size)"
      ],
      "metadata": {
        "colab": {
          "base_uri": "https://localhost:8080/"
        },
        "id": "2QuMtvEGjrOo",
        "outputId": "7da3afe0-ec33-4e3f-c7c5-0a91cfcda873"
      },
      "execution_count": null,
      "outputs": [
        {
          "output_type": "stream",
          "name": "stdout",
          "text": [
            "Epoch 1/5\n",
            "131/131 [==============================] - 658s 4s/step - loss: 0.9737 - accuracy: 0.6026 - recall_2: 0.9034 - precision_2: 0.5918 - val_loss: 0.8971 - val_accuracy: 0.5745 - val_recall_2: 0.9501 - val_precision_2: 0.5805\n",
            "Epoch 2/5\n"
          ]
        },
        {
          "output_type": "stream",
          "name": "stderr",
          "text": [
            "WARNING:tensorflow:Your input ran out of data; interrupting training. Make sure that your dataset or generator can generate at least `steps_per_epoch * epochs` batches (in this case, 655 batches). You may need to use the repeat() function when building your dataset.\n"
          ]
        },
        {
          "output_type": "stream",
          "name": "stdout",
          "text": [
            "\r131/131 [==============================] - 142s 1s/step - loss: 0.0000e+00 - accuracy: 0.0000e+00 - recall_2: 0.0000e+00 - precision_2: 0.0000e+00 - val_loss: 0.9147 - val_accuracy: 0.5840 - val_recall_2: 0.9524 - val_precision_2: 0.5893\n"
          ]
        }
      ]
    },
    {
      "cell_type": "code",
      "source": [
        "model"
      ],
      "metadata": {
        "colab": {
          "base_uri": "https://localhost:8080/"
        },
        "id": "DEBT0BkOsk91",
        "outputId": "be73b1d1-abfe-4f02-9053-fb28e4eeeda3"
      },
      "execution_count": null,
      "outputs": [
        {
          "output_type": "execute_result",
          "data": {
            "text/plain": [
              "<keras.src.engine.sequential.Sequential at 0x7e8562148a90>"
            ]
          },
          "metadata": {},
          "execution_count": 23
        }
      ]
    },
    {
      "cell_type": "code",
      "source": [
        "model.evaluate()"
      ],
      "metadata": {
        "id": "v80kVnF-smR5"
      },
      "execution_count": null,
      "outputs": []
    },
    {
      "cell_type": "code",
      "execution_count": null,
      "metadata": {
        "id": "X6dmpPbqq8V7",
        "cellView": "form"
      },
      "outputs": [],
      "source": [
        "# @title\n",
        "def regressor(initial_epochs,\n",
        "              fine_tune_epochs,\n",
        "              callbacks,\n",
        "              validation_data,\n",
        "              training_data,\n",
        "              fine_tune_at,\n",
        "              steps_per_epoch,\n",
        "              validation_steps,\n",
        "              batch_size):\n",
        "  # Load VGG19 base model\n",
        "  base_model = tf.keras.applications.vgg19.VGG19(\n",
        "    include_top=False,\n",
        "    weights='imagenet',\n",
        "    input_shape=(224, 224, 3),\n",
        "    pooling=\"avg\")\n",
        "\n",
        "  # Freeze the layers of the base model\n",
        "  base_model.trainable = False\n",
        "\n",
        "  # Define the output layer for regression\n",
        "  output = tf.keras.layers.Dense(1, activation='relu')\n",
        "\n",
        "  # Add a flatten layer after the base model\n",
        "  flatten = tf.keras.layers.Flatten()\n",
        "\n",
        "  # Create the regression model\n",
        "  model = tf.keras.models.Sequential()\n",
        "  model.add(base_model)\n",
        "  model.add(flatten)\n",
        "  model.add(output)\n",
        "\n",
        "  # Compile the model for regression\n",
        "  model.compile(\n",
        "      optimizer=\"Adam\",\n",
        "      loss=tf.keras.losses.MeanSquaredError())\n",
        "\n",
        "  # Train the model with initial epochs\n",
        "  history = model.fit(\n",
        "      training_data,\n",
        "      epochs=initial_epochs,\n",
        "      validation_data=validation_data,\n",
        "      callbacks=callbacks,\n",
        "      batch_size=batch_size,\n",
        "      steps_per_epoch=steps_per_epoch,\n",
        "      validation_steps=validation_steps)\n",
        "\n",
        "  # Allow the base model to be trainable\n",
        "  base_model.trainable = True\n",
        "\n",
        "  # Freeze layers up to 'fine_tune_at'\n",
        "  for layer in base_model.layers[:fine_tune_at]:\n",
        "    layer.trainable = False\n",
        "\n",
        "  # Recompile the model for fine-tuning\n",
        "  model.compile(\n",
        "      optimizer=\"Adam\",\n",
        "      loss=tf.keras.losses.MeanSquaredError())\n",
        "\n",
        "  total_epochs =  initial_epochs + fine_tune_epochs\n",
        "\n",
        "  # Fine-tune the model for additional epochs\n",
        "  history_fine = model.fit(\n",
        "      training_data,\n",
        "      epochs=total_epochs,\n",
        "      initial_epoch=history.epoch[-1],\n",
        "      validation_data=validation_data,\n",
        "      callbacks=callbacks,\n",
        "      batch_size=batch_size,\n",
        "      steps_per_epoch=steps_per_epoch,\n",
        "      validation_steps=validation_steps)\n",
        "\n",
        "  return model, history, history_fine\n"
      ]
    },
    {
      "cell_type": "code",
      "execution_count": null,
      "metadata": {
        "colab": {
          "base_uri": "https://localhost:8080/",
          "height": 373
        },
        "id": "MvV-b7sQnnjo",
        "outputId": "1eaeb99f-8297-4d78-f1b2-a34cf8b5672e"
      },
      "outputs": [
        {
          "name": "stdout",
          "output_type": "stream",
          "text": [
            "Epoch 1/10\n",
            " 1/19 [>.............................] - ETA: 12:41 - loss: 353.9775"
          ]
        },
        {
          "ename": "KeyboardInterrupt",
          "evalue": "ignored",
          "output_type": "error",
          "traceback": [
            "\u001b[0;31m---------------------------------------------------------------------------\u001b[0m",
            "\u001b[0;31mKeyboardInterrupt\u001b[0m                         Traceback (most recent call last)",
            "\u001b[0;32m<ipython-input-38-d651a6225b79>\u001b[0m in \u001b[0;36m<cell line: 1>\u001b[0;34m()\u001b[0m\n\u001b[0;32m----> 1\u001b[0;31m \u001b[0mmodel\u001b[0m\u001b[0;34m,\u001b[0m \u001b[0mhistory\u001b[0m\u001b[0;34m,\u001b[0m \u001b[0mhistory_fine\u001b[0m\u001b[0;34m=\u001b[0m\u001b[0mregressor\u001b[0m\u001b[0;34m(\u001b[0m\u001b[0;36m10\u001b[0m\u001b[0;34m,\u001b[0m \u001b[0;36m5\u001b[0m\u001b[0;34m,\u001b[0m \u001b[0mcallbacks\u001b[0m\u001b[0;34m,\u001b[0m \u001b[0mvalidation_dataset\u001b[0m\u001b[0;34m,\u001b[0m\u001b[0mtrain__dataset\u001b[0m \u001b[0;34m,\u001b[0m\u001b[0;36m100\u001b[0m\u001b[0;34m,\u001b[0m \u001b[0;36m19\u001b[0m\u001b[0;34m,\u001b[0m \u001b[0;36m6\u001b[0m\u001b[0;34m)\u001b[0m\u001b[0;34m\u001b[0m\u001b[0;34m\u001b[0m\u001b[0m\n\u001b[0m",
            "\u001b[0;32m<ipython-input-36-1acc2a839add>\u001b[0m in \u001b[0;36mregressor\u001b[0;34m(initial_epochs, fine_tune_epochs, callbacks, validation_data, training_data, fine_tune_at, steps_per_epoch, validation_steps)\u001b[0m\n\u001b[1;32m     35\u001b[0m \u001b[0;34m\u001b[0m\u001b[0m\n\u001b[1;32m     36\u001b[0m   \u001b[0;31m# Train the model with initial epochs\u001b[0m\u001b[0;34m\u001b[0m\u001b[0;34m\u001b[0m\u001b[0m\n\u001b[0;32m---> 37\u001b[0;31m   history = model.fit(\n\u001b[0m\u001b[1;32m     38\u001b[0m       \u001b[0mtraining_data\u001b[0m\u001b[0;34m,\u001b[0m\u001b[0;34m\u001b[0m\u001b[0;34m\u001b[0m\u001b[0m\n\u001b[1;32m     39\u001b[0m       \u001b[0mepochs\u001b[0m\u001b[0;34m=\u001b[0m\u001b[0minitial_epochs\u001b[0m\u001b[0;34m,\u001b[0m\u001b[0;34m\u001b[0m\u001b[0;34m\u001b[0m\u001b[0m\n",
            "\u001b[0;32m/usr/local/lib/python3.10/dist-packages/keras/utils/traceback_utils.py\u001b[0m in \u001b[0;36merror_handler\u001b[0;34m(*args, **kwargs)\u001b[0m\n\u001b[1;32m     63\u001b[0m         \u001b[0mfiltered_tb\u001b[0m \u001b[0;34m=\u001b[0m \u001b[0;32mNone\u001b[0m\u001b[0;34m\u001b[0m\u001b[0;34m\u001b[0m\u001b[0m\n\u001b[1;32m     64\u001b[0m         \u001b[0;32mtry\u001b[0m\u001b[0;34m:\u001b[0m\u001b[0;34m\u001b[0m\u001b[0;34m\u001b[0m\u001b[0m\n\u001b[0;32m---> 65\u001b[0;31m             \u001b[0;32mreturn\u001b[0m \u001b[0mfn\u001b[0m\u001b[0;34m(\u001b[0m\u001b[0;34m*\u001b[0m\u001b[0margs\u001b[0m\u001b[0;34m,\u001b[0m \u001b[0;34m**\u001b[0m\u001b[0mkwargs\u001b[0m\u001b[0;34m)\u001b[0m\u001b[0;34m\u001b[0m\u001b[0;34m\u001b[0m\u001b[0m\n\u001b[0m\u001b[1;32m     66\u001b[0m         \u001b[0;32mexcept\u001b[0m \u001b[0mException\u001b[0m \u001b[0;32mas\u001b[0m \u001b[0me\u001b[0m\u001b[0;34m:\u001b[0m\u001b[0;34m\u001b[0m\u001b[0;34m\u001b[0m\u001b[0m\n\u001b[1;32m     67\u001b[0m             \u001b[0mfiltered_tb\u001b[0m \u001b[0;34m=\u001b[0m \u001b[0m_process_traceback_frames\u001b[0m\u001b[0;34m(\u001b[0m\u001b[0me\u001b[0m\u001b[0;34m.\u001b[0m\u001b[0m__traceback__\u001b[0m\u001b[0;34m)\u001b[0m\u001b[0;34m\u001b[0m\u001b[0;34m\u001b[0m\u001b[0m\n",
            "\u001b[0;32m/usr/local/lib/python3.10/dist-packages/keras/engine/training.py\u001b[0m in \u001b[0;36mfit\u001b[0;34m(self, x, y, batch_size, epochs, verbose, callbacks, validation_split, validation_data, shuffle, class_weight, sample_weight, initial_epoch, steps_per_epoch, validation_steps, validation_batch_size, validation_freq, max_queue_size, workers, use_multiprocessing)\u001b[0m\n\u001b[1;32m   1683\u001b[0m                         ):\n\u001b[1;32m   1684\u001b[0m                             \u001b[0mcallbacks\u001b[0m\u001b[0;34m.\u001b[0m\u001b[0mon_train_batch_begin\u001b[0m\u001b[0;34m(\u001b[0m\u001b[0mstep\u001b[0m\u001b[0;34m)\u001b[0m\u001b[0;34m\u001b[0m\u001b[0;34m\u001b[0m\u001b[0m\n\u001b[0;32m-> 1685\u001b[0;31m                             \u001b[0mtmp_logs\u001b[0m \u001b[0;34m=\u001b[0m \u001b[0mself\u001b[0m\u001b[0;34m.\u001b[0m\u001b[0mtrain_function\u001b[0m\u001b[0;34m(\u001b[0m\u001b[0miterator\u001b[0m\u001b[0;34m)\u001b[0m\u001b[0;34m\u001b[0m\u001b[0;34m\u001b[0m\u001b[0m\n\u001b[0m\u001b[1;32m   1686\u001b[0m                             \u001b[0;32mif\u001b[0m \u001b[0mdata_handler\u001b[0m\u001b[0;34m.\u001b[0m\u001b[0mshould_sync\u001b[0m\u001b[0;34m:\u001b[0m\u001b[0;34m\u001b[0m\u001b[0;34m\u001b[0m\u001b[0m\n\u001b[1;32m   1687\u001b[0m                                 \u001b[0mcontext\u001b[0m\u001b[0;34m.\u001b[0m\u001b[0masync_wait\u001b[0m\u001b[0;34m(\u001b[0m\u001b[0;34m)\u001b[0m\u001b[0;34m\u001b[0m\u001b[0;34m\u001b[0m\u001b[0m\n",
            "\u001b[0;32m/usr/local/lib/python3.10/dist-packages/tensorflow/python/util/traceback_utils.py\u001b[0m in \u001b[0;36merror_handler\u001b[0;34m(*args, **kwargs)\u001b[0m\n\u001b[1;32m    148\u001b[0m     \u001b[0mfiltered_tb\u001b[0m \u001b[0;34m=\u001b[0m \u001b[0;32mNone\u001b[0m\u001b[0;34m\u001b[0m\u001b[0;34m\u001b[0m\u001b[0m\n\u001b[1;32m    149\u001b[0m     \u001b[0;32mtry\u001b[0m\u001b[0;34m:\u001b[0m\u001b[0;34m\u001b[0m\u001b[0;34m\u001b[0m\u001b[0m\n\u001b[0;32m--> 150\u001b[0;31m       \u001b[0;32mreturn\u001b[0m \u001b[0mfn\u001b[0m\u001b[0;34m(\u001b[0m\u001b[0;34m*\u001b[0m\u001b[0margs\u001b[0m\u001b[0;34m,\u001b[0m \u001b[0;34m**\u001b[0m\u001b[0mkwargs\u001b[0m\u001b[0;34m)\u001b[0m\u001b[0;34m\u001b[0m\u001b[0;34m\u001b[0m\u001b[0m\n\u001b[0m\u001b[1;32m    151\u001b[0m     \u001b[0;32mexcept\u001b[0m \u001b[0mException\u001b[0m \u001b[0;32mas\u001b[0m \u001b[0me\u001b[0m\u001b[0;34m:\u001b[0m\u001b[0;34m\u001b[0m\u001b[0;34m\u001b[0m\u001b[0m\n\u001b[1;32m    152\u001b[0m       \u001b[0mfiltered_tb\u001b[0m \u001b[0;34m=\u001b[0m \u001b[0m_process_traceback_frames\u001b[0m\u001b[0;34m(\u001b[0m\u001b[0me\u001b[0m\u001b[0;34m.\u001b[0m\u001b[0m__traceback__\u001b[0m\u001b[0;34m)\u001b[0m\u001b[0;34m\u001b[0m\u001b[0;34m\u001b[0m\u001b[0m\n",
            "\u001b[0;32m/usr/local/lib/python3.10/dist-packages/tensorflow/python/eager/polymorphic_function/polymorphic_function.py\u001b[0m in \u001b[0;36m__call__\u001b[0;34m(self, *args, **kwds)\u001b[0m\n\u001b[1;32m    892\u001b[0m \u001b[0;34m\u001b[0m\u001b[0m\n\u001b[1;32m    893\u001b[0m       \u001b[0;32mwith\u001b[0m \u001b[0mOptionalXlaContext\u001b[0m\u001b[0;34m(\u001b[0m\u001b[0mself\u001b[0m\u001b[0;34m.\u001b[0m\u001b[0m_jit_compile\u001b[0m\u001b[0;34m)\u001b[0m\u001b[0;34m:\u001b[0m\u001b[0;34m\u001b[0m\u001b[0;34m\u001b[0m\u001b[0m\n\u001b[0;32m--> 894\u001b[0;31m         \u001b[0mresult\u001b[0m \u001b[0;34m=\u001b[0m \u001b[0mself\u001b[0m\u001b[0;34m.\u001b[0m\u001b[0m_call\u001b[0m\u001b[0;34m(\u001b[0m\u001b[0;34m*\u001b[0m\u001b[0margs\u001b[0m\u001b[0;34m,\u001b[0m \u001b[0;34m**\u001b[0m\u001b[0mkwds\u001b[0m\u001b[0;34m)\u001b[0m\u001b[0;34m\u001b[0m\u001b[0;34m\u001b[0m\u001b[0m\n\u001b[0m\u001b[1;32m    895\u001b[0m \u001b[0;34m\u001b[0m\u001b[0m\n\u001b[1;32m    896\u001b[0m       \u001b[0mnew_tracing_count\u001b[0m \u001b[0;34m=\u001b[0m \u001b[0mself\u001b[0m\u001b[0;34m.\u001b[0m\u001b[0mexperimental_get_tracing_count\u001b[0m\u001b[0;34m(\u001b[0m\u001b[0;34m)\u001b[0m\u001b[0;34m\u001b[0m\u001b[0;34m\u001b[0m\u001b[0m\n",
            "\u001b[0;32m/usr/local/lib/python3.10/dist-packages/tensorflow/python/eager/polymorphic_function/polymorphic_function.py\u001b[0m in \u001b[0;36m_call\u001b[0;34m(self, *args, **kwds)\u001b[0m\n\u001b[1;32m    924\u001b[0m       \u001b[0;31m# In this case we have created variables on the first call, so we run the\u001b[0m\u001b[0;34m\u001b[0m\u001b[0;34m\u001b[0m\u001b[0m\n\u001b[1;32m    925\u001b[0m       \u001b[0;31m# defunned version which is guaranteed to never create variables.\u001b[0m\u001b[0;34m\u001b[0m\u001b[0;34m\u001b[0m\u001b[0m\n\u001b[0;32m--> 926\u001b[0;31m       \u001b[0;32mreturn\u001b[0m \u001b[0mself\u001b[0m\u001b[0;34m.\u001b[0m\u001b[0m_no_variable_creation_fn\u001b[0m\u001b[0;34m(\u001b[0m\u001b[0;34m*\u001b[0m\u001b[0margs\u001b[0m\u001b[0;34m,\u001b[0m \u001b[0;34m**\u001b[0m\u001b[0mkwds\u001b[0m\u001b[0;34m)\u001b[0m  \u001b[0;31m# pylint: disable=not-callable\u001b[0m\u001b[0;34m\u001b[0m\u001b[0;34m\u001b[0m\u001b[0m\n\u001b[0m\u001b[1;32m    927\u001b[0m     \u001b[0;32melif\u001b[0m \u001b[0mself\u001b[0m\u001b[0;34m.\u001b[0m\u001b[0m_variable_creation_fn\u001b[0m \u001b[0;32mis\u001b[0m \u001b[0;32mnot\u001b[0m \u001b[0;32mNone\u001b[0m\u001b[0;34m:\u001b[0m\u001b[0;34m\u001b[0m\u001b[0;34m\u001b[0m\u001b[0m\n\u001b[1;32m    928\u001b[0m       \u001b[0;31m# Release the lock early so that multiple threads can perform the call\u001b[0m\u001b[0;34m\u001b[0m\u001b[0;34m\u001b[0m\u001b[0m\n",
            "\u001b[0;32m/usr/local/lib/python3.10/dist-packages/tensorflow/python/eager/polymorphic_function/tracing_compiler.py\u001b[0m in \u001b[0;36m__call__\u001b[0;34m(self, *args, **kwargs)\u001b[0m\n\u001b[1;32m    141\u001b[0m       (concrete_function,\n\u001b[1;32m    142\u001b[0m        filtered_flat_args) = self._maybe_define_function(args, kwargs)\n\u001b[0;32m--> 143\u001b[0;31m     return concrete_function._call_flat(\n\u001b[0m\u001b[1;32m    144\u001b[0m         filtered_flat_args, captured_inputs=concrete_function.captured_inputs)  # pylint: disable=protected-access\n\u001b[1;32m    145\u001b[0m \u001b[0;34m\u001b[0m\u001b[0m\n",
            "\u001b[0;32m/usr/local/lib/python3.10/dist-packages/tensorflow/python/eager/polymorphic_function/monomorphic_function.py\u001b[0m in \u001b[0;36m_call_flat\u001b[0;34m(self, args, captured_inputs, cancellation_manager)\u001b[0m\n\u001b[1;32m   1755\u001b[0m         and executing_eagerly):\n\u001b[1;32m   1756\u001b[0m       \u001b[0;31m# No tape is watching; skip to running the function.\u001b[0m\u001b[0;34m\u001b[0m\u001b[0;34m\u001b[0m\u001b[0m\n\u001b[0;32m-> 1757\u001b[0;31m       return self._build_call_outputs(self._inference_function.call(\n\u001b[0m\u001b[1;32m   1758\u001b[0m           ctx, args, cancellation_manager=cancellation_manager))\n\u001b[1;32m   1759\u001b[0m     forward_backward = self._select_forward_and_backward_functions(\n",
            "\u001b[0;32m/usr/local/lib/python3.10/dist-packages/tensorflow/python/eager/polymorphic_function/monomorphic_function.py\u001b[0m in \u001b[0;36mcall\u001b[0;34m(self, ctx, args, cancellation_manager)\u001b[0m\n\u001b[1;32m    379\u001b[0m       \u001b[0;32mwith\u001b[0m \u001b[0m_InterpolateFunctionError\u001b[0m\u001b[0;34m(\u001b[0m\u001b[0mself\u001b[0m\u001b[0;34m)\u001b[0m\u001b[0;34m:\u001b[0m\u001b[0;34m\u001b[0m\u001b[0;34m\u001b[0m\u001b[0m\n\u001b[1;32m    380\u001b[0m         \u001b[0;32mif\u001b[0m \u001b[0mcancellation_manager\u001b[0m \u001b[0;32mis\u001b[0m \u001b[0;32mNone\u001b[0m\u001b[0;34m:\u001b[0m\u001b[0;34m\u001b[0m\u001b[0;34m\u001b[0m\u001b[0m\n\u001b[0;32m--> 381\u001b[0;31m           outputs = execute.execute(\n\u001b[0m\u001b[1;32m    382\u001b[0m               \u001b[0mstr\u001b[0m\u001b[0;34m(\u001b[0m\u001b[0mself\u001b[0m\u001b[0;34m.\u001b[0m\u001b[0msignature\u001b[0m\u001b[0;34m.\u001b[0m\u001b[0mname\u001b[0m\u001b[0;34m)\u001b[0m\u001b[0;34m,\u001b[0m\u001b[0;34m\u001b[0m\u001b[0;34m\u001b[0m\u001b[0m\n\u001b[1;32m    383\u001b[0m               \u001b[0mnum_outputs\u001b[0m\u001b[0;34m=\u001b[0m\u001b[0mself\u001b[0m\u001b[0;34m.\u001b[0m\u001b[0m_num_outputs\u001b[0m\u001b[0;34m,\u001b[0m\u001b[0;34m\u001b[0m\u001b[0;34m\u001b[0m\u001b[0m\n",
            "\u001b[0;32m/usr/local/lib/python3.10/dist-packages/tensorflow/python/eager/execute.py\u001b[0m in \u001b[0;36mquick_execute\u001b[0;34m(op_name, num_outputs, inputs, attrs, ctx, name)\u001b[0m\n\u001b[1;32m     50\u001b[0m   \u001b[0;32mtry\u001b[0m\u001b[0;34m:\u001b[0m\u001b[0;34m\u001b[0m\u001b[0;34m\u001b[0m\u001b[0m\n\u001b[1;32m     51\u001b[0m     \u001b[0mctx\u001b[0m\u001b[0;34m.\u001b[0m\u001b[0mensure_initialized\u001b[0m\u001b[0;34m(\u001b[0m\u001b[0;34m)\u001b[0m\u001b[0;34m\u001b[0m\u001b[0;34m\u001b[0m\u001b[0m\n\u001b[0;32m---> 52\u001b[0;31m     tensors = pywrap_tfe.TFE_Py_Execute(ctx._handle, device_name, op_name,\n\u001b[0m\u001b[1;32m     53\u001b[0m                                         inputs, attrs, num_outputs)\n\u001b[1;32m     54\u001b[0m   \u001b[0;32mexcept\u001b[0m \u001b[0mcore\u001b[0m\u001b[0;34m.\u001b[0m\u001b[0m_NotOkStatusException\u001b[0m \u001b[0;32mas\u001b[0m \u001b[0me\u001b[0m\u001b[0;34m:\u001b[0m\u001b[0;34m\u001b[0m\u001b[0;34m\u001b[0m\u001b[0m\n",
            "\u001b[0;31mKeyboardInterrupt\u001b[0m: "
          ]
        }
      ],
      "source": [
        "model, history, history_fine=regressor(10, 5, callbacks, validation_dataset,train__dataset ,100, 19, 6, batch_size)"
      ]
    },
    {
      "cell_type": "code",
      "execution_count": null,
      "metadata": {
        "colab": {
          "background_save": true
        },
        "id": "irgeGksbE8fz"
      },
      "outputs": [],
      "source": [
        "df=pd.read_csv('/content/drive/MyDrive/drought extent prediction/train.csv')"
      ]
    },
    {
      "cell_type": "code",
      "execution_count": null,
      "metadata": {
        "colab": {
          "background_save": true,
          "base_uri": "https://localhost:8080/",
          "height": 206
        },
        "id": "PtMtiBPbFGZH",
        "outputId": "8286c4e7-6ea7-4ef8-e7bf-8126585abf67"
      },
      "outputs": [
        {
          "data": {
            "text/html": [
              "\n",
              "  <div id=\"df-4f0caef5-9e7e-4280-bf3b-c5dc07e5632c\" class=\"colab-df-container\">\n",
              "    <div>\n",
              "<style scoped>\n",
              "    .dataframe tbody tr th:only-of-type {\n",
              "        vertical-align: middle;\n",
              "    }\n",
              "\n",
              "    .dataframe tbody tr th {\n",
              "        vertical-align: top;\n",
              "    }\n",
              "\n",
              "    .dataframe thead th {\n",
              "        text-align: right;\n",
              "    }\n",
              "</style>\n",
              "<table border=\"1\" class=\"dataframe\">\n",
              "  <thead>\n",
              "    <tr style=\"text-align: right;\">\n",
              "      <th></th>\n",
              "      <th>filename</th>\n",
              "      <th>growth_stage</th>\n",
              "      <th>damage</th>\n",
              "      <th>extent</th>\n",
              "      <th>season</th>\n",
              "    </tr>\n",
              "  </thead>\n",
              "  <tbody>\n",
              "    <tr>\n",
              "      <th>0</th>\n",
              "      <td>L398F01276C01S07896Rp26856.jpg</td>\n",
              "      <td>F</td>\n",
              "      <td>DR</td>\n",
              "      <td>0</td>\n",
              "      <td>LR2021</td>\n",
              "    </tr>\n",
              "    <tr>\n",
              "      <th>1</th>\n",
              "      <td>L355F02268C02S08916Rp30595.jpg</td>\n",
              "      <td>F</td>\n",
              "      <td>DR</td>\n",
              "      <td>0</td>\n",
              "      <td>LR2021</td>\n",
              "    </tr>\n",
              "    <tr>\n",
              "      <th>2</th>\n",
              "      <td>L134F00879C39S14248Rp42482.jpg</td>\n",
              "      <td>F</td>\n",
              "      <td>DR</td>\n",
              "      <td>10</td>\n",
              "      <td>SR2021</td>\n",
              "    </tr>\n",
              "    <tr>\n",
              "      <th>3</th>\n",
              "      <td>L1095F01359C01S08260Rp24587.jpg</td>\n",
              "      <td>F</td>\n",
              "      <td>DR</td>\n",
              "      <td>10</td>\n",
              "      <td>LR2021</td>\n",
              "    </tr>\n",
              "    <tr>\n",
              "      <th>4</th>\n",
              "      <td>L134F00777C39S14171Rp45993.jpg</td>\n",
              "      <td>F</td>\n",
              "      <td>DR</td>\n",
              "      <td>10</td>\n",
              "      <td>SR2021</td>\n",
              "    </tr>\n",
              "  </tbody>\n",
              "</table>\n",
              "</div>\n",
              "    <div class=\"colab-df-buttons\">\n",
              "\n",
              "  <div class=\"colab-df-container\">\n",
              "    <button class=\"colab-df-convert\" onclick=\"convertToInteractive('df-4f0caef5-9e7e-4280-bf3b-c5dc07e5632c')\"\n",
              "            title=\"Convert this dataframe to an interactive table.\"\n",
              "            style=\"display:none;\">\n",
              "\n",
              "  <svg xmlns=\"http://www.w3.org/2000/svg\" height=\"24px\" viewBox=\"0 -960 960 960\">\n",
              "    <path d=\"M120-120v-720h720v720H120Zm60-500h600v-160H180v160Zm220 220h160v-160H400v160Zm0 220h160v-160H400v160ZM180-400h160v-160H180v160Zm440 0h160v-160H620v160ZM180-180h160v-160H180v160Zm440 0h160v-160H620v160Z\"/>\n",
              "  </svg>\n",
              "    </button>\n",
              "\n",
              "  <style>\n",
              "    .colab-df-container {\n",
              "      display:flex;\n",
              "      gap: 12px;\n",
              "    }\n",
              "\n",
              "    .colab-df-convert {\n",
              "      background-color: #E8F0FE;\n",
              "      border: none;\n",
              "      border-radius: 50%;\n",
              "      cursor: pointer;\n",
              "      display: none;\n",
              "      fill: #1967D2;\n",
              "      height: 32px;\n",
              "      padding: 0 0 0 0;\n",
              "      width: 32px;\n",
              "    }\n",
              "\n",
              "    .colab-df-convert:hover {\n",
              "      background-color: #E2EBFA;\n",
              "      box-shadow: 0px 1px 2px rgba(60, 64, 67, 0.3), 0px 1px 3px 1px rgba(60, 64, 67, 0.15);\n",
              "      fill: #174EA6;\n",
              "    }\n",
              "\n",
              "    .colab-df-buttons div {\n",
              "      margin-bottom: 4px;\n",
              "    }\n",
              "\n",
              "    [theme=dark] .colab-df-convert {\n",
              "      background-color: #3B4455;\n",
              "      fill: #D2E3FC;\n",
              "    }\n",
              "\n",
              "    [theme=dark] .colab-df-convert:hover {\n",
              "      background-color: #434B5C;\n",
              "      box-shadow: 0px 1px 3px 1px rgba(0, 0, 0, 0.15);\n",
              "      filter: drop-shadow(0px 1px 2px rgba(0, 0, 0, 0.3));\n",
              "      fill: #FFFFFF;\n",
              "    }\n",
              "  </style>\n",
              "\n",
              "    <script>\n",
              "      const buttonEl =\n",
              "        document.querySelector('#df-4f0caef5-9e7e-4280-bf3b-c5dc07e5632c button.colab-df-convert');\n",
              "      buttonEl.style.display =\n",
              "        google.colab.kernel.accessAllowed ? 'block' : 'none';\n",
              "\n",
              "      async function convertToInteractive(key) {\n",
              "        const element = document.querySelector('#df-4f0caef5-9e7e-4280-bf3b-c5dc07e5632c');\n",
              "        const dataTable =\n",
              "          await google.colab.kernel.invokeFunction('convertToInteractive',\n",
              "                                                    [key], {});\n",
              "        if (!dataTable) return;\n",
              "\n",
              "        const docLinkHtml = 'Like what you see? Visit the ' +\n",
              "          '<a target=\"_blank\" href=https://colab.research.google.com/notebooks/data_table.ipynb>data table notebook</a>'\n",
              "          + ' to learn more about interactive tables.';\n",
              "        element.innerHTML = '';\n",
              "        dataTable['output_type'] = 'display_data';\n",
              "        await google.colab.output.renderOutput(dataTable, element);\n",
              "        const docLink = document.createElement('div');\n",
              "        docLink.innerHTML = docLinkHtml;\n",
              "        element.appendChild(docLink);\n",
              "      }\n",
              "    </script>\n",
              "  </div>\n",
              "\n",
              "\n",
              "<div id=\"df-4ad1c523-b9db-4636-9501-e1ee145159aa\">\n",
              "  <button class=\"colab-df-quickchart\" onclick=\"quickchart('df-4ad1c523-b9db-4636-9501-e1ee145159aa')\"\n",
              "            title=\"Suggest charts.\"\n",
              "            style=\"display:none;\">\n",
              "\n",
              "<svg xmlns=\"http://www.w3.org/2000/svg\" height=\"24px\"viewBox=\"0 0 24 24\"\n",
              "     width=\"24px\">\n",
              "    <g>\n",
              "        <path d=\"M19 3H5c-1.1 0-2 .9-2 2v14c0 1.1.9 2 2 2h14c1.1 0 2-.9 2-2V5c0-1.1-.9-2-2-2zM9 17H7v-7h2v7zm4 0h-2V7h2v10zm4 0h-2v-4h2v4z\"/>\n",
              "    </g>\n",
              "</svg>\n",
              "  </button>\n",
              "\n",
              "<style>\n",
              "  .colab-df-quickchart {\n",
              "      --bg-color: #E8F0FE;\n",
              "      --fill-color: #1967D2;\n",
              "      --hover-bg-color: #E2EBFA;\n",
              "      --hover-fill-color: #174EA6;\n",
              "      --disabled-fill-color: #AAA;\n",
              "      --disabled-bg-color: #DDD;\n",
              "  }\n",
              "\n",
              "  [theme=dark] .colab-df-quickchart {\n",
              "      --bg-color: #3B4455;\n",
              "      --fill-color: #D2E3FC;\n",
              "      --hover-bg-color: #434B5C;\n",
              "      --hover-fill-color: #FFFFFF;\n",
              "      --disabled-bg-color: #3B4455;\n",
              "      --disabled-fill-color: #666;\n",
              "  }\n",
              "\n",
              "  .colab-df-quickchart {\n",
              "    background-color: var(--bg-color);\n",
              "    border: none;\n",
              "    border-radius: 50%;\n",
              "    cursor: pointer;\n",
              "    display: none;\n",
              "    fill: var(--fill-color);\n",
              "    height: 32px;\n",
              "    padding: 0;\n",
              "    width: 32px;\n",
              "  }\n",
              "\n",
              "  .colab-df-quickchart:hover {\n",
              "    background-color: var(--hover-bg-color);\n",
              "    box-shadow: 0 1px 2px rgba(60, 64, 67, 0.3), 0 1px 3px 1px rgba(60, 64, 67, 0.15);\n",
              "    fill: var(--button-hover-fill-color);\n",
              "  }\n",
              "\n",
              "  .colab-df-quickchart-complete:disabled,\n",
              "  .colab-df-quickchart-complete:disabled:hover {\n",
              "    background-color: var(--disabled-bg-color);\n",
              "    fill: var(--disabled-fill-color);\n",
              "    box-shadow: none;\n",
              "  }\n",
              "\n",
              "  .colab-df-spinner {\n",
              "    border: 2px solid var(--fill-color);\n",
              "    border-color: transparent;\n",
              "    border-bottom-color: var(--fill-color);\n",
              "    animation:\n",
              "      spin 1s steps(1) infinite;\n",
              "  }\n",
              "\n",
              "  @keyframes spin {\n",
              "    0% {\n",
              "      border-color: transparent;\n",
              "      border-bottom-color: var(--fill-color);\n",
              "      border-left-color: var(--fill-color);\n",
              "    }\n",
              "    20% {\n",
              "      border-color: transparent;\n",
              "      border-left-color: var(--fill-color);\n",
              "      border-top-color: var(--fill-color);\n",
              "    }\n",
              "    30% {\n",
              "      border-color: transparent;\n",
              "      border-left-color: var(--fill-color);\n",
              "      border-top-color: var(--fill-color);\n",
              "      border-right-color: var(--fill-color);\n",
              "    }\n",
              "    40% {\n",
              "      border-color: transparent;\n",
              "      border-right-color: var(--fill-color);\n",
              "      border-top-color: var(--fill-color);\n",
              "    }\n",
              "    60% {\n",
              "      border-color: transparent;\n",
              "      border-right-color: var(--fill-color);\n",
              "    }\n",
              "    80% {\n",
              "      border-color: transparent;\n",
              "      border-right-color: var(--fill-color);\n",
              "      border-bottom-color: var(--fill-color);\n",
              "    }\n",
              "    90% {\n",
              "      border-color: transparent;\n",
              "      border-bottom-color: var(--fill-color);\n",
              "    }\n",
              "  }\n",
              "</style>\n",
              "\n",
              "  <script>\n",
              "    async function quickchart(key) {\n",
              "      const quickchartButtonEl =\n",
              "        document.querySelector('#' + key + ' button');\n",
              "      quickchartButtonEl.disabled = true;  // To prevent multiple clicks.\n",
              "      quickchartButtonEl.classList.add('colab-df-spinner');\n",
              "      try {\n",
              "        const charts = await google.colab.kernel.invokeFunction(\n",
              "            'suggestCharts', [key], {});\n",
              "      } catch (error) {\n",
              "        console.error('Error during call to suggestCharts:', error);\n",
              "      }\n",
              "      quickchartButtonEl.classList.remove('colab-df-spinner');\n",
              "      quickchartButtonEl.classList.add('colab-df-quickchart-complete');\n",
              "    }\n",
              "    (() => {\n",
              "      let quickchartButtonEl =\n",
              "        document.querySelector('#df-4ad1c523-b9db-4636-9501-e1ee145159aa button');\n",
              "      quickchartButtonEl.style.display =\n",
              "        google.colab.kernel.accessAllowed ? 'block' : 'none';\n",
              "    })();\n",
              "  </script>\n",
              "</div>\n",
              "    </div>\n",
              "  </div>\n"
            ],
            "text/plain": [
              "                          filename growth_stage damage  extent  season\n",
              "0   L398F01276C01S07896Rp26856.jpg            F     DR       0  LR2021\n",
              "1   L355F02268C02S08916Rp30595.jpg            F     DR       0  LR2021\n",
              "2   L134F00879C39S14248Rp42482.jpg            F     DR      10  SR2021\n",
              "3  L1095F01359C01S08260Rp24587.jpg            F     DR      10  LR2021\n",
              "4   L134F00777C39S14171Rp45993.jpg            F     DR      10  SR2021"
            ]
          },
          "execution_count": 15,
          "metadata": {},
          "output_type": "execute_result"
        }
      ],
      "source": [
        "df.head()"
      ]
    },
    {
      "cell_type": "code",
      "execution_count": null,
      "metadata": {
        "colab": {
          "background_save": true
        },
        "id": "baH4XHPwFIKB"
      },
      "outputs": [],
      "source": [
        "df=df.drop_duplicates()"
      ]
    },
    {
      "cell_type": "code",
      "execution_count": null,
      "metadata": {
        "id": "nZAO9JRuFMUS"
      },
      "outputs": [],
      "source": [
        "df=df.query(\"extent != 0\")"
      ]
    },
    {
      "cell_type": "code",
      "execution_count": null,
      "metadata": {
        "colab": {
          "base_uri": "https://localhost:8080/"
        },
        "id": "oYiOvnFmFSLm",
        "outputId": "8f629451-8938-4383-b2be-4c9a9b163aac"
      },
      "outputs": [
        {
          "data": {
            "text/plain": [
              "14457"
            ]
          },
          "execution_count": 12,
          "metadata": {},
          "output_type": "execute_result"
        }
      ],
      "source": [
        "len(df)"
      ]
    },
    {
      "cell_type": "code",
      "execution_count": null,
      "metadata": {
        "colab": {
          "base_uri": "https://localhost:8080/"
        },
        "id": "4gLpz_RhFTh2",
        "outputId": "8f212e1d-8145-4820-9302-548a3f311dc0"
      },
      "outputs": [
        {
          "name": "stdout",
          "output_type": "stream",
          "text": [
            "14457\n"
          ]
        }
      ],
      "source": [
        "count=0\n",
        "image_dir='/content/drive/MyDrive/drought extent prediction/train'\n",
        "for filename in df['filename'].to_list():\n",
        "  filepath=os.path.join(image_dir, filename)\n",
        "  if os.path.exists(filepath):\n",
        "    count=count+1\n",
        "print(count)"
      ]
    },
    {
      "cell_type": "code",
      "execution_count": null,
      "metadata": {
        "colab": {
          "base_uri": "https://localhost:8080/"
        },
        "id": "xZ047IrGGNKM",
        "outputId": "2c2231b1-05cc-48c6-f3bd-018f99b02424"
      },
      "outputs": [
        {
          "data": {
            "text/plain": [
              "36.0"
            ]
          },
          "execution_count": 23,
          "metadata": {},
          "output_type": "execute_result"
        }
      ],
      "source": [
        "0.2*180\n"
      ]
    }
  ],
  "metadata": {
    "accelerator": "GPU",
    "colab": {
      "provenance": [],
      "gpuType": "T4",
      "mount_file_id": "1J5epYhF0L63yIDQ4hU-Yt8mEYPj7hGrI",
      "authorship_tag": "ABX9TyN77DrF4UZh/xXH94xa/LMO",
      "include_colab_link": true
    },
    "kernelspec": {
      "display_name": "Python 3",
      "name": "python3"
    },
    "language_info": {
      "name": "python"
    }
  },
  "nbformat": 4,
  "nbformat_minor": 0
}