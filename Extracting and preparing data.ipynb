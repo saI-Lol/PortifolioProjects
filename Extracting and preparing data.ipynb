{
 "cells": [
  {
   "cell_type": "markdown",
   "id": "d4b98db1-b94b-4b11-84c6-2bf5e17d393f",
   "metadata": {},
   "source": [
    "# Webscrapping Shoes data from Jumia web page"
   ]
  },
  {
   "cell_type": "markdown",
   "id": "84c6146c-a383-40f7-8529-2be148fdad32",
   "metadata": {},
   "source": [
    "---"
   ]
  },
  {
   "cell_type": "code",
   "execution_count": null,
   "id": "23ab89af-eb01-4f8d-8abf-3bc523d8c20f",
   "metadata": {
    "tags": []
   },
   "outputs": [],
   "source": [
    "#import requests and beautifulsoup\n",
    "from bs4 import BeautifulSoup\n",
    "import requests"
   ]
  },
  {
   "cell_type": "code",
   "execution_count": null,
   "id": "8aa39f6c-5a7a-449e-8047-feddf8bb87ff",
   "metadata": {
    "tags": []
   },
   "outputs": [],
   "source": [
    "#make a request for web page\n",
    "#create a soup object\n",
    "response=requests.get('https://www.jumia.ug/mens-shoes/').text\n",
    "soup=BeautifulSoup(response,'lxml')"
   ]
  },
  {
   "cell_type": "code",
   "execution_count": null,
   "id": "abb14474-c6d7-4169-afc6-d65f1011123f",
   "metadata": {
    "tags": []
   },
   "outputs": [],
   "source": [
    "#obtain all article tags with the class 'prd _fb col c-prd' in a list\n",
    "#iterate and view each article\n",
    "for index, article in enumerate(soup.find_all('article',class_='prd _fb col c-prd')):\n",
    "    print(f'article: {index+1}')\n",
    "    print(article.prettify())\n",
    "    print('\\n\\n')"
   ]
  },
  {
   "cell_type": "code",
   "execution_count": null,
   "id": "f08b8e34-b301-4e64-be4a-61f1db63b921",
   "metadata": {},
   "outputs": [],
   "source": [
    "#create a csv file to store the data \n",
    "import csv\n",
    "csv_file=open('Mens_shoes.csv', 'w', encoding='utf-8', newline='')\n",
    "csv_writer=csv.writer(csv_file)\n",
    "#write header row in csv file\n",
    "csv_writer.writerow(['Item','old price','new price','discount','rating'])\n",
    "\n",
    "#extract data from article tags\n",
    "for index, article in enumerate(soup.find_all('article',class_='prd _fb col c-prd')):\n",
    "    try:\n",
    "        #get item from article\n",
    "        item=article.h3.text\n",
    "        \n",
    "        #get new price from article\n",
    "        new_price=article.find('div', class_='prc')\n",
    "        new_price=new_price.text if (new_price is not None) else None \n",
    "        \n",
    "        #get old price from article\n",
    "        old_price=article.find('div', class_='old')\n",
    "        old_price=old_price.text if (old_price is not None) else None\n",
    "        \n",
    "        #get discount percentage from article\n",
    "        pct_price_cut=article.find('div', class_='bdg _dsct _sm')\n",
    "        pct_price_cut=pct_price_cut.text if (pct_price_cut is not None) else None\n",
    "        \n",
    "        #get rating from article\n",
    "        stars=article.find('div', class_='stars _s')\n",
    "        stars=stars.text if (stars is not None) else None\n",
    "    #catch all exceptions and print message\n",
    "    except Exception as e:\n",
    "        print(f\"Error: {e}\")\n",
    "    #write new row into csv file using extracted data\n",
    "    csv_writer.writerow([item, old_price, new_price, pct_price_cut, stars])\n",
    "    #print the written row\n",
    "    print(f'{index+1}: {item}\\t{old_price}\\t{new_price}\\t{pct_price_cut}\\t{stars}')\n",
    "#close csv file\n",
    "csv_file.close()\n",
    "    "
   ]
  },
  {
   "cell_type": "code",
   "execution_count": null,
   "id": "8d4af54b-8f72-46f9-82e5-40c7b81990a0",
   "metadata": {},
   "outputs": [],
   "source": [
    "#import numpy and pandas\n",
    "import pandas as pd\n",
    "import numpy as np"
   ]
  },
  {
   "cell_type": "code",
   "execution_count": null,
   "id": "b50a89fd-e878-4e09-8348-1c318cc28bcd",
   "metadata": {},
   "outputs": [],
   "source": [
    "#read created csv file into a dataframe\n",
    "df=pd.read_csv('Mens_shoes.csv')"
   ]
  },
  {
   "cell_type": "code",
   "execution_count": null,
   "id": "9263a447-5f50-442a-b85c-e425fb9dfd2d",
   "metadata": {},
   "outputs": [],
   "source": [
    "#view top 5 rows of dataframe\n",
    "df.head()"
   ]
  },
  {
   "cell_type": "code",
   "execution_count": null,
   "id": "0764da93-0fe7-41a4-a058-23372c9544ca",
   "metadata": {},
   "outputs": [],
   "source": [
    "#brief description of dataframe\n",
    "df.info()"
   ]
  },
  {
   "cell_type": "code",
   "execution_count": null,
   "id": "9b290574-70dc-45f2-b3da-f8bbc1aa4e77",
   "metadata": {},
   "outputs": [],
   "source": [
    "#get only the rating value out of 5\n",
    "#rename rating to rating/5\n",
    "df['rating']=df['rating'].str.extract('(^\\d\\.?\\d?)')\n",
    "df.rename(columns={'rating':'rating/5'}, inplace=True)\n",
    "df.head()"
   ]
  },
  {
   "cell_type": "code",
   "execution_count": null,
   "id": "21ff2f71-f4aa-4428-ae59-66d7f890576e",
   "metadata": {},
   "outputs": [],
   "source": [
    "#remove % symbol from discount variable\n",
    "df['discount']=df['discount'].str.extract('(\\d{1,3})')\n",
    "df.head()"
   ]
  },
  {
   "cell_type": "code",
   "execution_count": null,
   "id": "70e3ba86-91fa-4c75-8eb9-c28da31c1d3a",
   "metadata": {},
   "outputs": [],
   "source": [
    "#create column to separate old price and old price max\n",
    "df[['old price', 'old price max']]=df['old price'].str.extract('UGX\\s(\\d{1,3}\\,\\d{3})\\s?-?\\s?U?G?X?\\s?(\\d{1,3}\\,\\d{3})?')\n",
    "df.head()"
   ]
  },
  {
   "cell_type": "code",
   "execution_count": null,
   "id": "4ec5346f-b388-4c71-bf10-6f7e3264a51c",
   "metadata": {},
   "outputs": [],
   "source": [
    "#create column to separate new price and new price max\n",
    "df[['new price', 'new price max']]=df['new price'].str.extract('UGX\\s(\\d{1,3}\\,\\d{3})\\s?-?\\s?U?G?X?\\s?(\\d{1,3}\\,\\d{3})?')\n",
    "df.head()"
   ]
  },
  {
   "cell_type": "code",
   "execution_count": null,
   "id": "5a906285-9d29-4c92-9f4f-8b1f672cd73a",
   "metadata": {},
   "outputs": [],
   "source": [
    "#remove commas in price values\n",
    "df[['old price','new price','old price max','new price max']]=df[['old price','new price','old price max','new price max']].apply(lambda x: x.str.replace(',' , ''))\n",
    "df.head()"
   ]
  },
  {
   "cell_type": "code",
   "execution_count": null,
   "id": "89d66a58-73ba-4552-b08d-7cae286888ed",
   "metadata": {},
   "outputs": [],
   "source": [
    "#convert number columns to numerical\n",
    "num_index=df.columns.drop('Item')\n",
    "print(num_index)\n",
    "df[num_index]=df[num_index].astype('float32')\n",
    "df.head()"
   ]
  },
  {
   "cell_type": "code",
   "execution_count": null,
   "id": "3af0ca08-eaf6-4542-8adc-2c326285abef",
   "metadata": {},
   "outputs": [],
   "source": [
    "#convert discount to decimal\n",
    "df['discount']=df['discount']/100\n",
    "df.head()"
   ]
  },
  {
   "cell_type": "code",
   "execution_count": null,
   "id": "fae10299-afd6-4468-8555-534a62f2a202",
   "metadata": {},
   "outputs": [],
   "source": [
    "#extract color from item\n",
    "df['color']=df['Item'].str.extract('.+-([\\s&,\\w]*)\\.?$')\n",
    "df.head()"
   ]
  },
  {
   "cell_type": "code",
   "execution_count": null,
   "id": "12ef49b9-c590-41f6-9563-565a6d3867ae",
   "metadata": {},
   "outputs": [],
   "source": [
    "#final cleaned dataset\n",
    "df"
   ]
  },
  {
   "cell_type": "code",
   "execution_count": null,
   "id": "11105d27-51ba-4f70-bfdb-7d7b8db96749",
   "metadata": {},
   "outputs": [],
   "source": [
    "#convert cleaned data set to csv file\n",
    "df.to_csv('Mens_shoes_cleaned.csv')"
   ]
  }
 ],
 "metadata": {
  "kernelspec": {
   "display_name": "Python 3 (ipykernel)",
   "language": "python",
   "name": "python3"
  },
  "language_info": {
   "codemirror_mode": {
    "name": "ipython",
    "version": 3
   },
   "file_extension": ".py",
   "mimetype": "text/x-python",
   "name": "python",
   "nbconvert_exporter": "python",
   "pygments_lexer": "ipython3",
   "version": "3.9.13"
  }
 },
 "nbformat": 4,
 "nbformat_minor": 5
}
